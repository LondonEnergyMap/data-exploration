{
 "cells": [
  {
   "cell_type": "code",
   "execution_count": 2,
   "metadata": {},
   "outputs": [],
   "source": [
    "import pandas as pd\n",
    "from sklearn.model_selection import train_test_split\n",
    "from sklearn.linear_model import LinearRegression\n",
    "\n",
    "# filepath = 'https://media.githubusercontent.com/media/LondonEnergyMap/cleandata/master/epc/domestic/epcshort_postcodefull.csv'\n",
    "filepath = 'epcshort_postcodefull.csv'\n",
    "df_all = pd.read_csv(filepath)"
   ]
  },
  {
   "cell_type": "code",
   "execution_count": 3,
   "metadata": {},
   "outputs": [],
   "source": [
    "# create new column of building age based on wall description and transcation type\n",
    "df_all['wall_firstword'] = df_all.wall.str.split().str.get(0)\n",
    "wall_mapping = {'Cavity': 2, 'System': 3, 'Timber': 3}\n",
    "df_all['age'] = df_all.wall_firstword.map(wall_mapping)\n",
    "df_all.age.fillna(1, inplace=True)\n",
    "df_all.loc[df_all.transact_type == 'new dwelling', 'age'] = 4"
   ]
  },
  {
   "cell_type": "code",
   "execution_count": 4,
   "metadata": {},
   "outputs": [],
   "source": [
    "# create new column for number of exposed sides based on property type and form\n",
    "prop_mapping = {'House': 0, 'Flat': -2, 'Bungalow': 0.5, 'Maisonette': -2,\n",
    "                'Park home': 0}\n",
    "built_mapping = {'Detached': 0, 'Mid-Terrace': -2, 'Semi-Detached': -1,\n",
    "                 'Enclosed Mid-Terrace': -2.5, 'Enclosed End-Terrace': -1.5,\n",
    "                 '': 0}\n",
    "\n",
    "\n",
    "df_all['propmap'] = df_all.prop_type.map(prop_mapping)\n",
    "df_all['builtmap'] = df_all.builtform.map(built_mapping)\n",
    "df_all['exposedsides'] = 6 + df_all.propmap + df_all.builtmap"
   ]
  },
  {
   "cell_type": "code",
   "execution_count": 5,
   "metadata": {},
   "outputs": [],
   "source": [
    "# select only entries with less than 10 rooms\n",
    "n = 10\n",
    "df = df_all[(df_all.nrooms <= n)]\n",
    "\n",
    "# restrict upper and lower limit for floor area\n",
    "tfa_upper = 50*n\n",
    "tfa_lower = 20\n",
    "df = df[(df.tfa <= tfa_upper) & (df.tfa >= tfa_lower)]\n",
    "\n",
    "# select entries only with certain number of meters, and select mains gas only\n",
    "m = 6\n",
    "df = df[(df.gasmeters <= m) & (df.elecmeters <= m) & (df.mainsgas == 'Y')]"
   ]
  },
  {
   "cell_type": "code",
   "execution_count": 6,
   "metadata": {},
   "outputs": [],
   "source": [
    "dfml = df.fillna(value=0)\n",
    "x = dfml[['tfa', 'nrooms', 'age', 'exposedsides']]\n",
    "y = dfml[['gasmid', 'elecmid']]\n",
    "\n",
    "x_train, x_test, y_train, y_test = train_test_split(x, y, train_size=0.8, test_size=0.2, random_state=42)"
   ]
  },
  {
   "cell_type": "code",
   "execution_count": 7,
   "metadata": {},
   "outputs": [
    {
     "data": {
      "text/plain": [
       "0.5409266922617264"
      ]
     },
     "execution_count": 7,
     "metadata": {},
     "output_type": "execute_result"
    }
   ],
   "source": [
    "lrmodel = LinearRegression()\n",
    "lrmodel.fit(x, y)\n",
    "predictions = lrmodel.predict(x)\n",
    "scores = lrmodel.score(x, y)\n",
    "scores"
   ]
  },
  {
   "cell_type": "code",
   "execution_count": 8,
   "metadata": {},
   "outputs": [],
   "source": [
    "df_unknown = df_all[(~df_all.isin(df))]"
   ]
  },
  {
   "cell_type": "code",
   "execution_count": 9,
   "metadata": {},
   "outputs": [],
   "source": [
    "df_unknown = df_unknown.fillna(value=0)\n",
    "x_unknown = df_unknown[['tfa', 'nrooms', 'age', 'exposedsides']]\n",
    "y_unknown = df_unknown[['gasmid', 'elecmid']]\n",
    "\n",
    "unknowns = lrmodel.predict(x_unknown)"
   ]
  },
  {
   "cell_type": "code",
   "execution_count": 10,
   "metadata": {},
   "outputs": [
    {
     "data": {
      "text/plain": [
       "array([[ 8711.56708946,  2803.00687386],\n",
       "       [ 7361.21979945,  2452.79510387],\n",
       "       [ 8555.50260159,  2610.07895111],\n",
       "       ...,\n",
       "       [10526.92115305,  2582.22187743],\n",
       "       [ 6728.88410298,  2013.29787889],\n",
       "       [ 4109.19386304,  1657.16273152]])"
      ]
     },
     "execution_count": 10,
     "metadata": {},
     "output_type": "execute_result"
    }
   ],
   "source": [
    "unknowns"
   ]
  },
  {
   "cell_type": "code",
   "execution_count": 11,
   "metadata": {},
   "outputs": [],
   "source": [
    "df_unknown['gas_predict'] = unknowns[:,0]\n",
    "df_unknown['elec_predict'] = unknowns[:,1]"
   ]
  },
  {
   "cell_type": "code",
   "execution_count": 12,
   "metadata": {},
   "outputs": [],
   "source": [
    "df['gas_predict'] = df.gasmid\n",
    "df['elec_predict'] = df.elecmid"
   ]
  },
  {
   "cell_type": "code",
   "execution_count": 13,
   "metadata": {},
   "outputs": [],
   "source": [
    "df_predict = df_unknown.append(df)"
   ]
  },
  {
   "cell_type": "code",
   "execution_count": 14,
   "metadata": {},
   "outputs": [
    {
     "data": {
      "text/plain": [
       "16976228003.731655"
      ]
     },
     "execution_count": 14,
     "metadata": {},
     "output_type": "execute_result"
    }
   ],
   "source": [
    "totalgas = df_predict.gas_predict.sum()\n",
    "totalgas"
   ]
  },
  {
   "cell_type": "code",
   "execution_count": 15,
   "metadata": {},
   "outputs": [
    {
     "data": {
      "text/plain": [
       "4312426027.769174"
      ]
     },
     "execution_count": 15,
     "metadata": {},
     "output_type": "execute_result"
    }
   ],
   "source": [
    "totalelec = df_predict.elec_predict.sum()\n",
    "totalelec"
   ]
  },
  {
   "cell_type": "code",
   "execution_count": 16,
   "metadata": {},
   "outputs": [
    {
     "data": {
      "text/plain": [
       "21288654031.500828"
      ]
     },
     "execution_count": 16,
     "metadata": {},
     "output_type": "execute_result"
    }
   ],
   "source": [
    "totalcons = totalgas + totalelec\n",
    "totalcons"
   ]
  },
  {
   "cell_type": "code",
   "execution_count": 17,
   "metadata": {},
   "outputs": [],
   "source": [
    "filegas = 'https://media.githubusercontent.com/media/LondonEnergyMap/cleandata/master/consumption/gasldn2015.csv'\n",
    "filelec = 'https://media.githubusercontent.com/media/LondonEnergyMap/cleandata/master/consumption/elecldn2015.csv'\n",
    "\n",
    "dfgas = pd.read_csv(filegas)\n",
    "dfelec = pd.read_csv(filelec)"
   ]
  },
  {
   "cell_type": "code",
   "execution_count": 18,
   "metadata": {},
   "outputs": [
    {
     "data": {
      "text/html": [
       "<div>\n",
       "<style scoped>\n",
       "    .dataframe tbody tr th:only-of-type {\n",
       "        vertical-align: middle;\n",
       "    }\n",
       "\n",
       "    .dataframe tbody tr th {\n",
       "        vertical-align: top;\n",
       "    }\n",
       "\n",
       "    .dataframe thead th {\n",
       "        text-align: right;\n",
       "    }\n",
       "</style>\n",
       "<table border=\"1\" class=\"dataframe\">\n",
       "  <thead>\n",
       "    <tr style=\"text-align: right;\">\n",
       "      <th></th>\n",
       "      <th>la</th>\n",
       "      <th>lacode</th>\n",
       "      <th>lsoa</th>\n",
       "      <th>lsoacode</th>\n",
       "      <th>gas</th>\n",
       "      <th>gasmeters</th>\n",
       "      <th>gasmean</th>\n",
       "      <th>gasmid</th>\n",
       "    </tr>\n",
       "  </thead>\n",
       "  <tbody>\n",
       "    <tr>\n",
       "      <th>0</th>\n",
       "      <td>Barking and Dagenham</td>\n",
       "      <td>E09000002</td>\n",
       "      <td>Barking and Dagenham 001A</td>\n",
       "      <td>E01000027</td>\n",
       "      <td>7328749.24</td>\n",
       "      <td>641</td>\n",
       "      <td>11433.30615</td>\n",
       "      <td>10486.65</td>\n",
       "    </tr>\n",
       "    <tr>\n",
       "      <th>1</th>\n",
       "      <td>Barking and Dagenham</td>\n",
       "      <td>E09000002</td>\n",
       "      <td>Barking and Dagenham 001B</td>\n",
       "      <td>E01000028</td>\n",
       "      <td>5571294.76</td>\n",
       "      <td>601</td>\n",
       "      <td>9270.041198</td>\n",
       "      <td>8466.86</td>\n",
       "    </tr>\n",
       "    <tr>\n",
       "      <th>2</th>\n",
       "      <td>Barking and Dagenham</td>\n",
       "      <td>E09000002</td>\n",
       "      <td>Barking and Dagenham 001C</td>\n",
       "      <td>E01000029</td>\n",
       "      <td>8176398.62</td>\n",
       "      <td>607</td>\n",
       "      <td>13470.17895</td>\n",
       "      <td>12884.27</td>\n",
       "    </tr>\n",
       "    <tr>\n",
       "      <th>3</th>\n",
       "      <td>Barking and Dagenham</td>\n",
       "      <td>E09000002</td>\n",
       "      <td>Barking and Dagenham 001D</td>\n",
       "      <td>E01000030</td>\n",
       "      <td>6804284.64</td>\n",
       "      <td>709</td>\n",
       "      <td>9597.016417</td>\n",
       "      <td>8921.86</td>\n",
       "    </tr>\n",
       "    <tr>\n",
       "      <th>4</th>\n",
       "      <td>Barking and Dagenham</td>\n",
       "      <td>E09000002</td>\n",
       "      <td>Barking and Dagenham 002A</td>\n",
       "      <td>E01000031</td>\n",
       "      <td>8628396.31</td>\n",
       "      <td>567</td>\n",
       "      <td>15217.63018</td>\n",
       "      <td>14126.61</td>\n",
       "    </tr>\n",
       "  </tbody>\n",
       "</table>\n",
       "</div>"
      ],
      "text/plain": [
       "                     la     lacode                       lsoa   lsoacode  \\\n",
       "0  Barking and Dagenham  E09000002  Barking and Dagenham 001A  E01000027   \n",
       "1  Barking and Dagenham  E09000002  Barking and Dagenham 001B  E01000028   \n",
       "2  Barking and Dagenham  E09000002  Barking and Dagenham 001C  E01000029   \n",
       "3  Barking and Dagenham  E09000002  Barking and Dagenham 001D  E01000030   \n",
       "4  Barking and Dagenham  E09000002  Barking and Dagenham 002A  E01000031   \n",
       "\n",
       "          gas gasmeters      gasmean    gasmid  \n",
       "0  7328749.24       641  11433.30615  10486.65  \n",
       "1  5571294.76       601  9270.041198   8466.86  \n",
       "2  8176398.62       607  13470.17895  12884.27  \n",
       "3  6804284.64       709  9597.016417   8921.86  \n",
       "4  8628396.31       567  15217.63018  14126.61  "
      ]
     },
     "execution_count": 18,
     "metadata": {},
     "output_type": "execute_result"
    }
   ],
   "source": [
    "dfgas.head()"
   ]
  },
  {
   "cell_type": "code",
   "execution_count": 19,
   "metadata": {},
   "outputs": [],
   "source": [
    "dfgas['gas'] = pd.to_numeric(dfgas.gas, errors='coerce')\n",
    "dfelec['elec'] = pd.to_numeric(dfelec.elec, errors='coerce')"
   ]
  },
  {
   "cell_type": "code",
   "execution_count": 20,
   "metadata": {},
   "outputs": [
    {
     "data": {
      "text/plain": [
       "11895670405.73"
      ]
     },
     "execution_count": 20,
     "metadata": {},
     "output_type": "execute_result"
    }
   ],
   "source": [
    "realelec = dfelec.elec.sum()\n",
    "realelec\n",
    "#10514368868"
   ]
  },
  {
   "cell_type": "code",
   "execution_count": 22,
   "metadata": {},
   "outputs": [
    {
     "data": {
      "text/plain": [
       "36401884696.7"
      ]
     },
     "execution_count": 22,
     "metadata": {},
     "output_type": "execute_result"
    }
   ],
   "source": [
    "realgas = dfgas.gas.sum()\n",
    "realgas\n",
    "#38200122665"
   ]
  },
  {
   "cell_type": "code",
   "execution_count": null,
   "metadata": {},
   "outputs": [],
   "source": []
  }
 ],
 "metadata": {
  "kernelspec": {
   "display_name": "Python 3",
   "language": "python",
   "name": "python3"
  },
  "language_info": {
   "codemirror_mode": {
    "name": "ipython",
    "version": 3
   },
   "file_extension": ".py",
   "mimetype": "text/x-python",
   "name": "python",
   "nbconvert_exporter": "python",
   "pygments_lexer": "ipython3",
   "version": "3.6.8"
  }
 },
 "nbformat": 4,
 "nbformat_minor": 2
}
