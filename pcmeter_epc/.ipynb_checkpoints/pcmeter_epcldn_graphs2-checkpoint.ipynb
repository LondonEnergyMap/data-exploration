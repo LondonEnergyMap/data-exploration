{
 "cells": [
  {
   "cell_type": "code",
   "execution_count": null,
   "metadata": {},
   "outputs": [],
   "source": [
    "import pandas as pd\n",
    "import seaborn as sns\n",
    "from matplotlib import pyplot as plt\n",
    "\n",
    "\n",
    "# filepath = 'epcshort_postcodefull.csv'\n",
    "filepath = 'https://media.githubusercontent.com/media/LondonEnergyMap/cleandata/master/pcmeter_epc/pcmeter10_epc.csv'\n",
    "\n",
    "df_all = pd.read_csv(filepath)\n",
    "\n",
    "df_all.head()"
   ]
  },
  {
   "cell_type": "code",
   "execution_count": null,
   "metadata": {},
   "outputs": [],
   "source": [
    "df_all.columns"
   ]
  },
  {
   "cell_type": "code",
   "execution_count": null,
   "metadata": {},
   "outputs": [],
   "source": [
    "df_all.mainsgas.unique()"
   ]
  },
  {
   "cell_type": "code",
   "execution_count": null,
   "metadata": {},
   "outputs": [],
   "source": [
    "pd.set_option('display.max_columns', 500)\n",
    "df_all[df_all.add2=='18 Artillery Lane']"
   ]
  },
  {
   "cell_type": "code",
   "execution_count": null,
   "metadata": {},
   "outputs": [],
   "source": [
    "df_all[df_all.transact_type=='new dwelling']"
   ]
  },
  {
   "cell_type": "code",
   "execution_count": null,
   "metadata": {},
   "outputs": [],
   "source": [
    "df_temp = df_all[df_all.wall.str.contains('Average', na=False)]"
   ]
  },
  {
   "cell_type": "code",
   "execution_count": null,
   "metadata": {},
   "outputs": [],
   "source": [
    "df_temp.head(50)"
   ]
  },
  {
   "cell_type": "code",
   "execution_count": null,
   "metadata": {},
   "outputs": [],
   "source": [
    "# clean up nrooms\n",
    "sns.kdeplot(df_all.nrooms)\n",
    "plt.xlabel('no. of rooms')\n",
    "plt.savefig('nrooms.png')"
   ]
  },
  {
   "cell_type": "code",
   "execution_count": null,
   "metadata": {},
   "outputs": [],
   "source": [
    "n = 10\n",
    "df = df_all[(df_all.nrooms<=n)]# & (df_all.nrooms>0)]\n",
    "sns.kdeplot(df.nrooms)\n",
    "plt.xlabel('no. of rooms')\n",
    "plt.savefig('nrooms_cleaned.png')"
   ]
  },
  {
   "cell_type": "code",
   "execution_count": null,
   "metadata": {},
   "outputs": [],
   "source": [
    "sns.kdeplot(df.tfa)\n",
    "plt.xlabel('m2')\n",
    "plt.savefig('tfa_afternrooms.png')"
   ]
  },
  {
   "cell_type": "code",
   "execution_count": null,
   "metadata": {},
   "outputs": [],
   "source": [
    "tfa_upper = 50*n\n",
    "tfa_lower = 20\n",
    "df = df[(df.tfa <= tfa_upper) & (df.tfa >= tfa_lower)]\n",
    "sns.kdeplot(df.tfa)\n",
    "plt.xlabel('m2')\n",
    "plt.savefig('tfa_cleaned.png')"
   ]
  },
  {
   "cell_type": "code",
   "execution_count": null,
   "metadata": {},
   "outputs": [],
   "source": [
    "df.shape"
   ]
  },
  {
   "cell_type": "code",
   "execution_count": null,
   "metadata": {},
   "outputs": [],
   "source": [
    "df.wall.unique()"
   ]
  },
  {
   "cell_type": "code",
   "execution_count": null,
   "metadata": {},
   "outputs": [],
   "source": [
    "df['wall_firstword'] = df.wall.str.split().str.get(0)"
   ]
  },
  {
   "cell_type": "code",
   "execution_count": null,
   "metadata": {},
   "outputs": [],
   "source": [
    "df.wall_firstword.unique()"
   ]
  },
  {
   "cell_type": "code",
   "execution_count": null,
   "metadata": {},
   "outputs": [],
   "source": [
    "wall_mapping = {'Cavity': 2, 'System': 3, 'Timber': 3}\n",
    "df['age'] = df.wall_firstword.map(wall_mapping)\n",
    "df.age.fillna(1, inplace=True)\n",
    "df.age.head(20)"
   ]
  },
  {
   "cell_type": "code",
   "execution_count": null,
   "metadata": {},
   "outputs": [],
   "source": [
    "df.loc[df.transact_type == 'new dwelling', 'age'] = 4"
   ]
  },
  {
   "cell_type": "code",
   "execution_count": null,
   "metadata": {},
   "outputs": [],
   "source": [
    "sns.regplot(x=df.age, y=df.gasmid, scatter_kws={'alpha':0.3})\n",
    "plt.savefig('age_wallgas.png')"
   ]
  },
  {
   "cell_type": "code",
   "execution_count": null,
   "metadata": {},
   "outputs": [],
   "source": [
    "sns.regplot(x=df.age, y=df.elecmid, scatter_kws={'alpha':0.3})\n",
    "plt.savefig('age_wallelec.png')"
   ]
  },
  {
   "cell_type": "code",
   "execution_count": null,
   "metadata": {},
   "outputs": [],
   "source": [
    "sns.boxplot(data=df, x='age', y='gasmid')"
   ]
  },
  {
   "cell_type": "code",
   "execution_count": null,
   "metadata": {},
   "outputs": [],
   "source": [
    "sns.boxplot(data=df, x='age', y='elecmid')"
   ]
  },
  {
   "cell_type": "code",
   "execution_count": null,
   "metadata": {},
   "outputs": [],
   "source": [
    "prop_mapping = {'House':0, 'Flat':-2, 'Bungalow':0.5, 'Maisonette':-2, 'Park home':0}\n",
    "built_mapping = {'Detached':0, 'Mid-Terrace':-2, 'Semi-Detached':-1, 'Enclosed Mid-Terrace': -2.5, 'Enclosed End-Terrace': -1.5, '':0}\n",
    "\n",
    "\n",
    "df['propmap'] = df.prop_type.map(prop_mapping)\n",
    "df['builtmap'] = df.builtform.map(built_mapping)\n",
    "df['exposedsides'] = 6 + df.propmap + df.builtmap"
   ]
  },
  {
   "cell_type": "code",
   "execution_count": null,
   "metadata": {},
   "outputs": [],
   "source": [
    "sns.boxplot(data=df, x='exposedsides', y='gasmid')"
   ]
  },
  {
   "cell_type": "code",
   "execution_count": null,
   "metadata": {},
   "outputs": [],
   "source": [
    "sns.boxplot(data=df, x='exposedsides', y='elecmid')"
   ]
  },
  {
   "cell_type": "code",
   "execution_count": null,
   "metadata": {},
   "outputs": [],
   "source": [
    "m = 10\n",
    "df10 = df[(df.gasmeters<=m) & (df.elecmeters<=m) & (df.mainsgas=='Y')]"
   ]
  },
  {
   "cell_type": "code",
   "execution_count": null,
   "metadata": {},
   "outputs": [],
   "source": [
    "df10.shape"
   ]
  },
  {
   "cell_type": "code",
   "execution_count": null,
   "metadata": {},
   "outputs": [],
   "source": [
    "sns.regplot(x=df10.age, y=df10.gasmid, scatter_kws={'alpha':0.3})"
   ]
  },
  {
   "cell_type": "code",
   "execution_count": null,
   "metadata": {},
   "outputs": [],
   "source": [
    "sns.regplot(x=df10.age, y=df10.elecmid, scatter_kws={'alpha':0.3})"
   ]
  },
  {
   "cell_type": "code",
   "execution_count": null,
   "metadata": {},
   "outputs": [],
   "source": [
    "sns.regplot(x=df10.exposedsides, y=df10.gasmid, scatter_kws={'alpha':0.3})"
   ]
  },
  {
   "cell_type": "code",
   "execution_count": null,
   "metadata": {},
   "outputs": [],
   "source": [
    "sns.regplot(x=df10.exposedsides, y=df10.elecmid, scatter_kws={'alpha':0.3})"
   ]
  },
  {
   "cell_type": "code",
   "execution_count": null,
   "metadata": {},
   "outputs": [],
   "source": [
    "sns.regplot(x=df10.tfa, y=df10.gasmid, scatter_kws={'alpha':0.3})"
   ]
  },
  {
   "cell_type": "code",
   "execution_count": null,
   "metadata": {},
   "outputs": [],
   "source": [
    "sns.regplot(x=df10.tfa, y=df10.elecmid, scatter_kws={'alpha':0.3})"
   ]
  },
  {
   "cell_type": "code",
   "execution_count": null,
   "metadata": {},
   "outputs": [],
   "source": [
    "sns.regplot(x=df10.tfa, y=df10.gasmid, scatter_kws={'alpha':0.3})"
   ]
  },
  {
   "cell_type": "code",
   "execution_count": null,
   "metadata": {},
   "outputs": [],
   "source": [
    "sns.regplot(x=df10.nrooms, y=df10.gasmid, scatter_kws={'alpha':0.3})"
   ]
  },
  {
   "cell_type": "code",
   "execution_count": null,
   "metadata": {},
   "outputs": [],
   "source": [
    "sns.regplot(x=df10.nrooms, y=df10.elecmid, scatter_kws={'alpha':0.3})"
   ]
  },
  {
   "cell_type": "code",
   "execution_count": null,
   "metadata": {},
   "outputs": [],
   "source": [
    "m = 6\n",
    "df10 = df[(df.gasmeters<=m) & (df.elecmeters<=m) & (df.mainsgas=='Y')]\n",
    "df.shape"
   ]
  },
  {
   "cell_type": "code",
   "execution_count": null,
   "metadata": {},
   "outputs": [],
   "source": [
    "# split training test data\n",
    "from sklearn.model_selection import train_test_split\n",
    "\n",
    "temp = df10.fillna(value=0)\n",
    "x = temp[['tfa', 'nrooms', 'age', 'exposedsides']]\n",
    "y = temp.gasmid\n",
    "\n",
    "x_train, x_test, y_train, y_test = train_test_split(x, y, train_size=0.8, test_size=0.2, random_state=42)\n",
    "temp.shape"
   ]
  },
  {
   "cell_type": "code",
   "execution_count": null,
   "metadata": {},
   "outputs": [],
   "source": [
    "# build machine learning model\n",
    "\n",
    "from sklearn.linear_model import LinearRegression\n",
    "\n",
    "lrmodel = LinearRegression()\n",
    "lrmodel.fit(x_train, y_train)\n",
    "predictions = lrmodel.predict(x_test)\n",
    "gasscore = lrmodel.score(x_train, y_train)"
   ]
  },
  {
   "cell_type": "code",
   "execution_count": null,
   "metadata": {},
   "outputs": [],
   "source": [
    "plt.scatter(y_test, predictions, c='orange', alpha=0.3)\n",
    "plt.ylim(0, 50000)\n",
    "plt.title('model score = %.1f%%' % (gasscore*100) )\n",
    "plt.ylabel('Predictions')\n",
    "plt.xlabel('Test data')\n",
    "plt.savefig('gasmlmodel.png')"
   ]
  },
  {
   "cell_type": "code",
   "execution_count": null,
   "metadata": {},
   "outputs": [],
   "source": [
    "# do electricity\n",
    "y = temp.elecmid\n",
    "\n",
    "x_train, x_test, y_train, y_test = train_test_split(x, y, train_size=0.8, test_size=0.2, random_state=42)\n",
    "lrmodel = LinearRegression()\n",
    "lrmodel.fit(x_train, y_train)\n",
    "predictions = lrmodel.predict(x_test)\n",
    "elecscore = lrmodel.score(x_train, y_train)\n",
    "plt.scatter(y_test, predictions, alpha=0.3)\n",
    "plt.ylim(0, 16000)\n",
    "plt.title('model score = %.1f%%' % (elecscore*100) )\n",
    "plt.ylabel('Predictions')\n",
    "plt.xlabel('Test data')\n",
    "plt.savefig('elecmlmodel.png')"
   ]
  },
  {
   "cell_type": "code",
   "execution_count": null,
   "metadata": {},
   "outputs": [],
   "source": [
    "df10.nrooms.unique()"
   ]
  },
  {
   "cell_type": "code",
   "execution_count": null,
   "metadata": {},
   "outputs": [],
   "source": [
    "porder=[\"House\", \"Bungalow\", \"Maisonette\", 'Flat']\n",
    "dft10 = df10.copy()\n",
    "dft10['gasmid'] = dft10.gasmid/1000\n",
    "sns.set_style(\"darkgrid\")\n",
    "sns.boxplot(data=dft10, x='gasmid', y='prop_type', order=porder)\n",
    "plt.xlabel('Annual gas consumption (MWh)')\n",
    "plt.ylabel('')\n",
    "plt.title('Based on 6 meters')\n",
    "plt.tight_layout()\n",
    "plt.savefig('meters6_proptype.png')"
   ]
  },
  {
   "cell_type": "code",
   "execution_count": null,
   "metadata": {},
   "outputs": [],
   "source": [
    "dft = df[~df.prop_type.str.contains('Park')]\n",
    "dft['gasmid'] = dft.gasmid/1000\n",
    "sns.set_style(\"darkgrid\")\n",
    "sns.boxplot(data=dft, x='gasmid', y='prop_type', order=porder)\n",
    "# plt.ylabel('Property type')\n",
    "plt.ylabel('')\n",
    "plt.xlabel('Annual gas consumption (MWh)')\n",
    "plt.title('All meters estimates')\n",
    "plt.tight_layout()\n",
    "plt.savefig('metersAll_proptype.png')"
   ]
  },
  {
   "cell_type": "code",
   "execution_count": null,
   "metadata": {},
   "outputs": [],
   "source": [
    "def makeplots(xinput, xlabel, figname):\n",
    "    f, axes = plt.subplots(1, 2, figsize=(15, 5))\n",
    "    sns.regplot(x=xinput, y=df10.gasmid, scatter_kws={'alpha':0.3}, ax=axes[0], color=gascolor)\n",
    "    sns.regplot(x=xinput, y=df10.elecmid, scatter_kws={'alpha':0.3}, ax=axes[1], color=eleccolor)\n",
    "    axes[0].set_ylabel('Annual consumption (MWh)', fontsize=fs, labelpad=10)\n",
    "    axes[1].set_ylabel('', fontsize=fs)    \n",
    "#     axes[1].set_ylabel('Electricity consumption (kWh)')\n",
    "#     axes[0].set_ylabel('Gas consumption (kWh)')\n",
    "    axes[1].set_xlabel(xlabel, fontsize=fs, labelpad=10)\n",
    "    axes[0].set_xlabel(xlabel, fontsize=fs, labelpad=10)\n",
    "    axes[0].text(0.95, 0.95, 'Gas', fontsize=fs,\n",
    "                 horizontalalignment='right',\n",
    "                 verticalalignment='top',\n",
    "                 transform=axes[0].transAxes,\n",
    "                 bbox={'facecolor': gascolor, 'alpha': 0.5, 'pad': 5})\n",
    "    axes[1].text(0.95, 0.95, 'Electricity', fontsize=fs,\n",
    "                 horizontalalignment='right',\n",
    "                 verticalalignment='top',\n",
    "                 transform=axes[1].transAxes,\n",
    "                 bbox={'facecolor': eleccolor, 'alpha': 0.5, 'pad': 5})\n",
    "    \n",
    "    plt.subplots_adjust(left=0.07, bottom=0.15, right=0.95, top=0.9, wspace=0.1, hspace=0.2)\n",
    "    plt.savefig(figname)"
   ]
  },
  {
   "cell_type": "code",
   "execution_count": null,
   "metadata": {},
   "outputs": [],
   "source": [
    "gascolor = \"coral\"\n",
    "eleccolor = \"cornflowerblue\"\n",
    "fs = 14\n",
    "ft = 9\n",
    "\n",
    "plot_cols = ['age', 'nrooms', 'tfa', 'exposedsides']\n",
    "plot_xlabel = ['Building age based on wall type', 'No. of rooms', 'Floor area (sqm)', 'Exposed sides']\n",
    "fignames = ['age.png', 'nroom.png', 'tfa.png', 'exposedsides.png']\n",
    "\n",
    "for i in range(4):\n",
    "    makeplots(df10[plot_cols[i]], plot_xlabel[i], fignames[i])\n",
    "    i"
   ]
  },
  {
   "cell_type": "code",
   "execution_count": null,
   "metadata": {},
   "outputs": [],
   "source": [
    "# build machine learning model\n",
    "\n",
    "x = temp[['tfa', 'nrooms', 'age', 'exposedsides']]\n",
    "yg = temp.gasmid\n",
    "ye = temp.elecmid\n",
    "\n",
    "x_train, x_test, yg_train, yg_test = train_test_split(x, yg, train_size=0.8, test_size=0.2, random_state=42)\n",
    "x_train, x_test, ye_train, ye_test = train_test_split(x, ye, train_size=0.8, test_size=0.2, random_state=42)\n",
    "\n",
    "# gas\n",
    "glrmodel = LinearRegression()\n",
    "glrmodel.fit(x_train, yg_train)\n",
    "gpredictions = glrmodel.predict(x_test)\n",
    "gasscore = glrmodel.score(x_train, yg_train)\n",
    "\n",
    "# elec\n",
    "elrmodel = LinearRegression()\n",
    "elrmodel.fit(x_train, ye_train)\n",
    "epredictions = elrmodel.predict(x_test)\n",
    "elecscore = elrmodel.score(x_train, ye_train)\n",
    "\n",
    "\n",
    "f, axes = plt.subplots(1, 2, figsize=(15, 5))\n",
    "\n",
    "axes[0].scatter(yg_test, gpredictions, c=gascolor, alpha=0.3)\n",
    "\n",
    "# sns.regplot(yg_test, gpredictions, ax=axes[0], color=gascolor)\n",
    "axes[0].set_ylim(0, 50000)\n",
    "# axes[0].set_title('model R^2 score = %.1f%%' % (gasscore*100) )\n",
    "axes[0].set_ylabel('Predictions (kWh)', fontsize=fs, labelpad=10)\n",
    "axes[0].set_xlabel('Actual data (kWh)', fontsize=fs, labelpad=10)\n",
    "\n",
    "axes[1].scatter(ye_test, epredictions, c=eleccolor, alpha=0.3)\n",
    "axes[1].set_ylim(0, 16000)\n",
    "# axes[1].set_title('model R^2 score = %.1f%%' % (elecscore*100) )\n",
    "# axes[1].set_ylabel('Predictions (kWh)', fontsize=fs, labelpad=10)\n",
    "axes[1].set_ylabel('')\n",
    "axes[1].set_xlabel('Actual data (kWh)', fontsize=fs, labelpad=10)\n",
    "\n",
    "axes[0].text(0.95, 0.95, 'gas: R$^{2}$ score = %.1f%%' % (gasscore*100), fontsize=fs,\n",
    "             horizontalalignment='right',\n",
    "             verticalalignment='top',\n",
    "             transform=axes[0].transAxes,\n",
    "             bbox={'facecolor': gascolor, 'alpha': 0.5, 'pad': 5})\n",
    "axes[1].text(0.95, 0.95, 'electricity: R$^{2}$ score = %.1f%%' % (elecscore*100), fontsize=fs,\n",
    "             horizontalalignment='right',\n",
    "             verticalalignment='top',\n",
    "             transform=axes[1].transAxes,\n",
    "             bbox={'facecolor': eleccolor, 'alpha': 0.5, 'pad': 5})\n",
    "\n",
    "plt.subplots_adjust(left=0.07, bottom=0.15, right=0.95, top=0.9, wspace=0.1, hspace=0.2)\n",
    "plt.savefig('bothmlmodel.png')\n",
    "\n"
   ]
  },
  {
   "cell_type": "code",
   "execution_count": null,
   "metadata": {},
   "outputs": [],
   "source": []
  }
 ],
 "metadata": {
  "kernelspec": {
   "display_name": "Python 3",
   "language": "python",
   "name": "python3"
  },
  "language_info": {
   "codemirror_mode": {
    "name": "ipython",
    "version": 3
   },
   "file_extension": ".py",
   "mimetype": "text/x-python",
   "name": "python",
   "nbconvert_exporter": "python",
   "pygments_lexer": "ipython3",
   "version": "3.6.8"
  }
 },
 "nbformat": 4,
 "nbformat_minor": 2
}
