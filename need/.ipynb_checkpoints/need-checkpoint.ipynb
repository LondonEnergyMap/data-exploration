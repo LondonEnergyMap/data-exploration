{
 "cells": [
  {
   "cell_type": "markdown",
   "metadata": {},
   "source": [
    "import pandas as pd"
   ]
  },
  {
   "cell_type": "code",
   "execution_count": 688,
   "metadata": {},
   "outputs": [
    {
     "data": {
      "text/html": [
       "<div>\n",
       "<style scoped>\n",
       "    .dataframe tbody tr th:only-of-type {\n",
       "        vertical-align: middle;\n",
       "    }\n",
       "\n",
       "    .dataframe tbody tr th {\n",
       "        vertical-align: top;\n",
       "    }\n",
       "\n",
       "    .dataframe thead th {\n",
       "        text-align: right;\n",
       "    }\n",
       "</style>\n",
       "<table border=\"1\" class=\"dataframe\">\n",
       "  <thead>\n",
       "    <tr style=\"text-align: right;\">\n",
       "      <th></th>\n",
       "      <th>Unnamed: 0</th>\n",
       "      <th>hid</th>\n",
       "      <th>imd_eng</th>\n",
       "      <th>e7</th>\n",
       "      <th>mainheatfuel</th>\n",
       "      <th>age</th>\n",
       "      <th>proptype</th>\n",
       "      <th>floorarea_band</th>\n",
       "      <th>epc_band</th>\n",
       "      <th>loftdepth</th>\n",
       "      <th>walls</th>\n",
       "      <th>cwi</th>\n",
       "      <th>cwi_year</th>\n",
       "      <th>loftins</th>\n",
       "      <th>loftins_year</th>\n",
       "      <th>boiler</th>\n",
       "      <th>boiler_year</th>\n",
       "      <th>gcons</th>\n",
       "      <th>year</th>\n",
       "      <th>econs</th>\n",
       "    </tr>\n",
       "  </thead>\n",
       "  <tbody>\n",
       "    <tr>\n",
       "      <th>0</th>\n",
       "      <td>0</td>\n",
       "      <td>1</td>\n",
       "      <td>1.0</td>\n",
       "      <td>NaN</td>\n",
       "      <td>1</td>\n",
       "      <td>101</td>\n",
       "      <td>104</td>\n",
       "      <td>4</td>\n",
       "      <td>3</td>\n",
       "      <td>2</td>\n",
       "      <td>2</td>\n",
       "      <td>NaN</td>\n",
       "      <td>NaN</td>\n",
       "      <td>NaN</td>\n",
       "      <td>NaN</td>\n",
       "      <td>NaN</td>\n",
       "      <td>NaN</td>\n",
       "      <td>35000.0</td>\n",
       "      <td>2005</td>\n",
       "      <td>12500.0</td>\n",
       "    </tr>\n",
       "    <tr>\n",
       "      <th>1</th>\n",
       "      <td>1</td>\n",
       "      <td>1</td>\n",
       "      <td>1.0</td>\n",
       "      <td>NaN</td>\n",
       "      <td>1</td>\n",
       "      <td>101</td>\n",
       "      <td>104</td>\n",
       "      <td>4</td>\n",
       "      <td>3</td>\n",
       "      <td>2</td>\n",
       "      <td>2</td>\n",
       "      <td>NaN</td>\n",
       "      <td>NaN</td>\n",
       "      <td>NaN</td>\n",
       "      <td>NaN</td>\n",
       "      <td>NaN</td>\n",
       "      <td>NaN</td>\n",
       "      <td>22000.0</td>\n",
       "      <td>2007</td>\n",
       "      <td>12500.0</td>\n",
       "    </tr>\n",
       "    <tr>\n",
       "      <th>2</th>\n",
       "      <td>2</td>\n",
       "      <td>1</td>\n",
       "      <td>1.0</td>\n",
       "      <td>NaN</td>\n",
       "      <td>1</td>\n",
       "      <td>101</td>\n",
       "      <td>104</td>\n",
       "      <td>4</td>\n",
       "      <td>3</td>\n",
       "      <td>2</td>\n",
       "      <td>2</td>\n",
       "      <td>NaN</td>\n",
       "      <td>NaN</td>\n",
       "      <td>NaN</td>\n",
       "      <td>NaN</td>\n",
       "      <td>NaN</td>\n",
       "      <td>NaN</td>\n",
       "      <td>25000.0</td>\n",
       "      <td>2008</td>\n",
       "      <td>11000.0</td>\n",
       "    </tr>\n",
       "    <tr>\n",
       "      <th>3</th>\n",
       "      <td>3</td>\n",
       "      <td>1</td>\n",
       "      <td>1.0</td>\n",
       "      <td>NaN</td>\n",
       "      <td>1</td>\n",
       "      <td>101</td>\n",
       "      <td>104</td>\n",
       "      <td>4</td>\n",
       "      <td>3</td>\n",
       "      <td>2</td>\n",
       "      <td>2</td>\n",
       "      <td>NaN</td>\n",
       "      <td>NaN</td>\n",
       "      <td>NaN</td>\n",
       "      <td>NaN</td>\n",
       "      <td>NaN</td>\n",
       "      <td>NaN</td>\n",
       "      <td>23000.0</td>\n",
       "      <td>2009</td>\n",
       "      <td>9500.0</td>\n",
       "    </tr>\n",
       "    <tr>\n",
       "      <th>4</th>\n",
       "      <td>4</td>\n",
       "      <td>1</td>\n",
       "      <td>1.0</td>\n",
       "      <td>NaN</td>\n",
       "      <td>1</td>\n",
       "      <td>101</td>\n",
       "      <td>104</td>\n",
       "      <td>4</td>\n",
       "      <td>3</td>\n",
       "      <td>2</td>\n",
       "      <td>2</td>\n",
       "      <td>NaN</td>\n",
       "      <td>NaN</td>\n",
       "      <td>NaN</td>\n",
       "      <td>NaN</td>\n",
       "      <td>NaN</td>\n",
       "      <td>NaN</td>\n",
       "      <td>20000.0</td>\n",
       "      <td>2010</td>\n",
       "      <td>10000.0</td>\n",
       "    </tr>\n",
       "  </tbody>\n",
       "</table>\n",
       "</div>"
      ],
      "text/plain": [
       "   Unnamed: 0  hid  imd_eng  e7  mainheatfuel  age  proptype  floorarea_band  \\\n",
       "0           0    1      1.0 NaN             1  101       104               4   \n",
       "1           1    1      1.0 NaN             1  101       104               4   \n",
       "2           2    1      1.0 NaN             1  101       104               4   \n",
       "3           3    1      1.0 NaN             1  101       104               4   \n",
       "4           4    1      1.0 NaN             1  101       104               4   \n",
       "\n",
       "   epc_band  loftdepth  walls  cwi  cwi_year  loftins  loftins_year  boiler  \\\n",
       "0         3          2      2  NaN       NaN      NaN           NaN     NaN   \n",
       "1         3          2      2  NaN       NaN      NaN           NaN     NaN   \n",
       "2         3          2      2  NaN       NaN      NaN           NaN     NaN   \n",
       "3         3          2      2  NaN       NaN      NaN           NaN     NaN   \n",
       "4         3          2      2  NaN       NaN      NaN           NaN     NaN   \n",
       "\n",
       "   boiler_year    gcons  year    econs  \n",
       "0          NaN  35000.0  2005  12500.0  \n",
       "1          NaN  22000.0  2007  12500.0  \n",
       "2          NaN  25000.0  2008  11000.0  \n",
       "3          NaN  23000.0  2009   9500.0  \n",
       "4          NaN  20000.0  2010  10000.0  "
      ]
     },
     "execution_count": 688,
     "metadata": {},
     "output_type": "execute_result"
    }
   ],
   "source": [
    "# filepath to CLEANED need data\n",
    "filepath = 'https://raw.githubusercontent.com/LondonEnergyMap/cleandata/master/need_ldn.csv'\n",
    "\n",
    "# read csv into dataframe\n",
    "df_all = pd.read_csv(filepath)\n",
    "df_all.head()"
   ]
  },
  {
   "cell_type": "code",
   "execution_count": 689,
   "metadata": {},
   "outputs": [
    {
     "data": {
      "text/plain": [
       "5275"
      ]
     },
     "execution_count": 689,
     "metadata": {},
     "output_type": "execute_result"
    }
   ],
   "source": [
    "len(df_all.hid.unique())"
   ]
  },
  {
   "cell_type": "code",
   "execution_count": 690,
   "metadata": {},
   "outputs": [
    {
     "data": {
      "text/plain": [
       "array([2005, 2007, 2008, 2009, 2010, 2011, 2012, 2006])"
      ]
     },
     "execution_count": 690,
     "metadata": {},
     "output_type": "execute_result"
    }
   ],
   "source": [
    "df_all.year.unique()"
   ]
  },
  {
   "cell_type": "code",
   "execution_count": 691,
   "metadata": {},
   "outputs": [
    {
     "data": {
      "text/plain": [
       "5115"
      ]
     },
     "execution_count": 691,
     "metadata": {},
     "output_type": "execute_result"
    }
   ],
   "source": [
    "df = df_all[df_all.year==2012]\n",
    "len(df)"
   ]
  },
  {
   "cell_type": "code",
   "execution_count": 692,
   "metadata": {},
   "outputs": [
    {
     "data": {
      "text/plain": [
       "Index(['Unnamed: 0', 'hid', 'imd_eng', 'e7', 'mainheatfuel', 'age', 'proptype',\n",
       "       'floorarea_band', 'epc_band', 'loftdepth', 'walls', 'cwi', 'cwi_year',\n",
       "       'loftins', 'loftins_year', 'boiler', 'boiler_year', 'gcons', 'year',\n",
       "       'econs'],\n",
       "      dtype='object')"
      ]
     },
     "execution_count": 692,
     "metadata": {},
     "output_type": "execute_result"
    }
   ],
   "source": [
    "df.columns"
   ]
  },
  {
   "cell_type": "code",
   "execution_count": 693,
   "metadata": {},
   "outputs": [
    {
     "data": {
      "text/plain": [
       "array([nan,  1.])"
      ]
     },
     "execution_count": 693,
     "metadata": {},
     "output_type": "execute_result"
    }
   ],
   "source": [
    "df.e7.unique()"
   ]
  },
  {
   "cell_type": "code",
   "execution_count": 694,
   "metadata": {},
   "outputs": [],
   "source": [
    "l = []\n",
    "for i in range(len(df.columns)):\n",
    "    col = df.columns[i]\n",
    "    l.append(df[col].count())"
   ]
  },
  {
   "cell_type": "code",
   "execution_count": 695,
   "metadata": {},
   "outputs": [
    {
     "data": {
      "text/plain": [
       "[5115,\n",
       " 5115,\n",
       " 5115,\n",
       " 499,\n",
       " 5115,\n",
       " 5115,\n",
       " 5115,\n",
       " 5115,\n",
       " 5115,\n",
       " 5115,\n",
       " 5115,\n",
       " 347,\n",
       " 347,\n",
       " 563,\n",
       " 563,\n",
       " 1431,\n",
       " 1431,\n",
       " 5115,\n",
       " 5115,\n",
       " 5115]"
      ]
     },
     "execution_count": 695,
     "metadata": {},
     "output_type": "execute_result"
    }
   ],
   "source": [
    "l"
   ]
  },
  {
   "cell_type": "code",
   "execution_count": 696,
   "metadata": {},
   "outputs": [
    {
     "data": {
      "text/plain": [
       "2377"
      ]
     },
     "execution_count": 696,
     "metadata": {},
     "output_type": "execute_result"
    }
   ],
   "source": [
    "len(df[df.loftdepth==99])"
   ]
  },
  {
   "cell_type": "code",
   "execution_count": 697,
   "metadata": {},
   "outputs": [
    {
     "data": {
      "text/plain": [
       "array([  nan, 2011., 2009., 2004., 2012., 2010., 2007., 2006., 2008.,\n",
       "       2005.])"
      ]
     },
     "execution_count": 697,
     "metadata": {},
     "output_type": "execute_result"
    }
   ],
   "source": [
    "df.loftins_year.unique()"
   ]
  },
  {
   "cell_type": "code",
   "execution_count": 700,
   "metadata": {},
   "outputs": [
    {
     "data": {
      "text/plain": [
       "Index(['imd_eng', 'mainheatfuel', 'age', 'proptype', 'epc_band', 'loftdepth',\n",
       "       'walls', 'floorarea_band', 'cwi', 'gcons', 'econs'],\n",
       "      dtype='object')"
      ]
     },
     "execution_count": 700,
     "metadata": {},
     "output_type": "execute_result"
    }
   ],
   "source": [
    "# explore gcons with age, property type, floorarea, imd, epc\n",
    "\n",
    "t = df[['imd_eng', 'mainheatfuel', 'age', 'proptype','epc_band', 'loftdepth', 'walls', 'floorarea_band', 'cwi','gcons', 'econs']]\n",
    "temp = t.copy()\n",
    "c = temp.columns\n",
    "\n",
    "# the number of columns not to plot\n",
    "k = 3\n",
    "n = len(c)-k\n",
    "\n",
    "temp = t.copy()\n",
    "temp['age'] = temp['age'] - 100\n",
    "temp['proptype'] = temp['proptype'] - 100\n",
    "temp['gconsperarea'] = temp['gcons'] / (temp['floorarea_band']*50)\n",
    "\n",
    "maxgcons = 50000 + 5000\n",
    "maxecons = 25000 + 5000\n",
    "n\n",
    "c"
   ]
  },
  {
   "cell_type": "code",
   "execution_count": 701,
   "metadata": {},
   "outputs": [
    {
     "data": {
      "image/png": "[encoded data removed]",
      "text/plain": [
       "<Figure size 1440x216 with 8 Axes>"
      ]
     },
     "metadata": {},
     "output_type": "display_data"
    }
   ],
   "source": [
    "from matplotlib import pyplot as plt\n",
    "import seaborn as sns\n",
    "\n",
    "\n",
    "f, axes = plt.subplots(1, n, figsize=(2.5*n,3))\n",
    "for i in range(len(c)-k):\n",
    "    xax = len(temp[c[i]].unique())+1\n",
    "    if c[i]=='loftdepth':\n",
    "        t = temp[temp.loftdepth!=99]\n",
    "        sns.regplot(x=t[c[i]], y=t.gcons, scatter_kws={'alpha':0.1}, ax=axes[i])\n",
    "    else:\n",
    "        sns.regplot(x=temp[c[i]], y=temp.gcons, scatter_kws={'alpha':0.1}, ax=axes[i])\n",
    "        \n",
    "    axes[i].set_xlim([0,xax])\n",
    "    axes[i].set_ylim([-5000,maxgcons])\n",
    "    if i!=0:\n",
    "        axes[i].get_yaxis().set_ticks([])\n",
    "        axes[i].set_ylabel('')\n",
    "plt.show()"
   ]
  },
  {
   "cell_type": "code",
   "execution_count": 702,
   "metadata": {},
   "outputs": [
    {
     "data": {
      "image/png": "[encoded data removed]",
      "text/plain": [
       "<Figure size 1440x216 with 8 Axes>"
      ]
     },
     "metadata": {},
     "output_type": "display_data"
    }
   ],
   "source": [
    "f, axes = plt.subplots(1, n, figsize=(2.5*n,3))\n",
    "for i in range(len(c)-k):\n",
    "    xax = len(temp[c[i]].unique())+1\n",
    "    if c[i]=='loftdepth':\n",
    "        t = temp[temp.loftdepth!=99]\n",
    "        sns.regplot(x=t[c[i]], y=t.econs, scatter_kws={'alpha':0.1}, ax=axes[i])\n",
    "    else:\n",
    "        sns.regplot(x=temp[c[i]], y=temp.econs, scatter_kws={'alpha':0.1}, ax=axes[i])\n",
    "    axes[i].set_xlim([0,xax])\n",
    "    axes[i].set_ylim([-5000,maxecons])\n",
    "    if i!=0:\n",
    "        axes[i].get_yaxis().set_ticks([])\n",
    "        axes[i].set_ylabel('')\n",
    "plt.show()"
   ]
  },
  {
   "cell_type": "code",
   "execution_count": 706,
   "metadata": {},
   "outputs": [
    {
     "data": {
      "image/png": "[encoded data removed]",
      "text/plain": [
       "<Figure size 1440x216 with 8 Axes>"
      ]
     },
     "metadata": {},
     "output_type": "display_data"
    }
   ],
   "source": [
    "f, axes = plt.subplots(1, n, figsize=(2.5*n,3))\n",
    "for i in range(len(c)-k):\n",
    "    xax = len(temp[c[i]].unique())+1\n",
    "    if c[i]=='loftdepth':\n",
    "        t = temp[temp.loftdepth!=99]\n",
    "        sns.boxplot(x=t[c[i]], y=t.econs, ax=axes[i])\n",
    "    else:\n",
    "        sns.boxplot(x=temp[c[i]], y=temp.econs, ax=axes[i])\n",
    "    axes[i].set_xlim([-1,xax])\n",
    "    axes[i].set_ylim([0,maxecons])\n",
    "    if i!=0:\n",
    "        axes[i].get_yaxis().set_ticks([])\n",
    "        axes[i].set_ylabel('')\n",
    "plt.show()"
   ]
  },
  {
   "cell_type": "code",
   "execution_count": null,
   "metadata": {},
   "outputs": [],
   "source": [
    "# looking at effects of cwi, loftins, boiler\n",
    "\n",
    "dfcwi = df_all[df_all.cwi==1]\n",
    "dfcwi=dfcwi.sort_values(['hid'])\n",
    "dfcwi.head(10)"
   ]
  },
  {
   "cell_type": "code",
   "execution_count": null,
   "metadata": {},
   "outputs": [],
   "source": [
    "# create new column of hue colors depending on year of intervention\n",
    "\n",
    "def colorgen_cwi(dfcwi):\n",
    "    if dfcwi.year > dfcwi.cwi_year:\n",
    "        c = 1\n",
    "    if dfcwi.year < dfcwi.cwi_year:\n",
    "        c = -1\n",
    "    if dfcwi.year == dfcwi.cwi_year:\n",
    "        c = 0\n",
    "    return c\n",
    "\n",
    "dfcwi['cwi_hue']= dfcwi.apply(colorgen_cwi, axis=1)\n",
    "dfcwi['cwi_hue'].head()     "
   ]
  },
  {
   "cell_type": "code",
   "execution_count": null,
   "metadata": {},
   "outputs": [],
   "source": [
    "dfcwi.groupby(['age']).nunique()"
   ]
  },
  {
   "cell_type": "code",
   "execution_count": null,
   "metadata": {},
   "outputs": [],
   "source": [
    "dfcwi.groupby(['floorarea_band']).nunique()"
   ]
  },
  {
   "cell_type": "code",
   "execution_count": null,
   "metadata": {},
   "outputs": [],
   "source": [
    "dfcwi.groupby(['proptype']).nunique()"
   ]
  },
  {
   "cell_type": "code",
   "execution_count": null,
   "metadata": {},
   "outputs": [],
   "source": [
    "dfcwi_temp = dfcwi[(dfcwi.proptype==106) & (dfcwi.age==103) & (dfcwi.floorarea_band==2)]\n",
    "\n",
    "#sns.scatterplot(data=dfcwi_temp, x='cwi_hue', y='gcons')#, hue='cwi_hue')\n",
    "\n",
    "sns.lineplot(data=dfcwi_temp, x='cwi_hue', y='gcons', hue='hid')\n",
    "plt.show()"
   ]
  },
  {
   "cell_type": "code",
   "execution_count": null,
   "metadata": {},
   "outputs": [],
   "source": [
    "#dfloft_temp = dfloft[(dfloft.proptype==popular_prop) & (dfloft.age==popular_age) & (dfloft.floorarea_band==popular_area)]\n",
    "dfcwi_temp = dfcwi\n",
    "\n",
    "# reassign hid to equally spaced integer values\n",
    "# In the first line, you assign a number to each unique element in your list (stored in the dictionary d; you can easily create it using a dictionary comprehension; set returns the unique elements of names).\n",
    "#Let us use enumerate function in dictionary comprehension. If you have not used enumerate: enumerate can take any thing iterable as input and returns element and its index.\n",
    "# Here we use enumerate function on the list to create index and list element tuples and use them to create a dictionary with dict comprehension. We create a dictionary with elements of the list as the keys and the index of elements as the values. Such dictionaries with element index are often useful in a variety of scenarios.\n",
    "\n",
    "d = {x: i for i, x in enumerate(set(dfcwi_temp.hid))}\n",
    "\n",
    "dfcwi_temp['hid2'] = [d[x] for x in dfcwi_temp['hid']]"
   ]
  },
  {
   "cell_type": "code",
   "execution_count": null,
   "metadata": {},
   "outputs": [],
   "source": [
    "# sns.scatterplot(data=dfloft_temp, x='loftins_hue', y='gcons')\n",
    "plt.figure(figsize=(25, 5))\n",
    "g = sns.scatterplot(data=dfcwi_temp, x='hid2', y='gcons', hue='cwi_hue')\n",
    "plt.xlim([0,100])\n",
    "g.legend(['sdf', 'd', '3'])\n",
    "plt.show()"
   ]
  },
  {
   "cell_type": "code",
   "execution_count": null,
   "metadata": {},
   "outputs": [],
   "source": [
    "\n",
    "sns.lineplot(data=dfcwi_temp, x='cwi_hue', y='gcons', hue='hid2')\n",
    "\n",
    "plt.show()"
   ]
  },
  {
   "cell_type": "code",
   "execution_count": null,
   "metadata": {},
   "outputs": [],
   "source": [
    "# create new column of hue colors depending on year of intervention\n",
    "dfl = df_all[df_all.loftins==1]\n",
    "dfloft = dfl.copy()\n",
    "\n",
    "def colorgen_loft(dfloft):\n",
    "    if dfloft.year > dfloft.loftins_year:\n",
    "        c = 1\n",
    "    if dfloft.year < dfloft.loftins_year:\n",
    "        c = -1\n",
    "    if dfloft.year == dfloft.loftins_year:\n",
    "        c = 0\n",
    "    return c\n",
    "\n",
    "dfloft['loftins_hue']= dfloft.apply(colorgen_loft, axis=1)\n",
    "dfloft['loftins_hue'].head()  "
   ]
  },
  {
   "cell_type": "code",
   "execution_count": null,
   "metadata": {},
   "outputs": [],
   "source": [
    "popular_age = dfloft.groupby(['age']).nunique().hid.idxmax()\n",
    "popular_prop = dfloft.groupby(['proptype']).nunique().hid.idxmax()\n",
    "popular_area = dfloft.groupby(['floorarea_band']).nunique().hid.idxmax()"
   ]
  },
  {
   "cell_type": "code",
   "execution_count": null,
   "metadata": {},
   "outputs": [],
   "source": [
    "#dfloft_temp = dfloft[(dfloft.proptype==popular_prop) & (dfloft.age==popular_age) & (dfloft.floorarea_band==popular_area)]\n",
    "dfloft_temp = dfloft\n",
    "\n",
    "# reassign hid to equally spaced integer values\n",
    "# In the first line, you assign a number to each unique element in your list (stored in the dictionary d; you can easily create it using a dictionary comprehension; set returns the unique elements of names).\n",
    "#Let us use enumerate function in dictionary comprehension. If you have not used enumerate: enumerate can take any thing iterable as input and returns element and its index.\n",
    "# Here we use enumerate function on the list to create index and list element tuples and use them to create a dictionary with dict comprehension. We create a dictionary with elements of the list as the keys and the index of elements as the values. Such dictionaries with element index are often useful in a variety of scenarios.\n",
    "\n",
    "d = {x: i for i, x in enumerate(set(dfloft_temp.hid))}\n",
    "\n",
    "dfloft_temp['hid2'] = [d[x] for x in dfloft_temp['hid']]"
   ]
  },
  {
   "cell_type": "code",
   "execution_count": null,
   "metadata": {},
   "outputs": [],
   "source": [
    "sns.lineplot(data=dfloft_temp, x='loftins_hue', y='gcons', hue='hid')\n",
    "plt.show()"
   ]
  },
  {
   "cell_type": "code",
   "execution_count": null,
   "metadata": {},
   "outputs": [],
   "source": [
    "# sns.scatterplot(data=dfloft_temp, x='loftins_hue', y='gcons')\n",
    "plt.figure(figsize=(25, 5))\n",
    "sns.scatterplot(data=dfloft_temp, x='hid2', y='gcons', hue='loftins_hue')\n",
    "plt.show()"
   ]
  },
  {
   "cell_type": "code",
   "execution_count": null,
   "metadata": {},
   "outputs": [],
   "source": [
    "# create new column of hue colors depending on year of intervention\n",
    "dfb = df_all[df_all.boiler==1]\n",
    "dfboiler = dfb.copy()\n",
    "\n",
    "def colorgen_boiler(dfboiler):\n",
    "    if dfboiler.year > dfboiler.boiler_year:\n",
    "        c = 1\n",
    "    if dfboiler.year < dfboiler.boiler_year:\n",
    "        c = -1\n",
    "    if dfboiler.year == dfboiler.boiler_year:\n",
    "        c = 0\n",
    "    return c\n",
    "\n",
    "dfboiler['boiler_hue']= dfboiler.apply(colorgen_boiler, axis=1)\n",
    "dfboiler['boiler_hue'].head() "
   ]
  },
  {
   "cell_type": "code",
   "execution_count": null,
   "metadata": {},
   "outputs": [],
   "source": [
    "\n",
    "popular_age = dfboiler.groupby(['age']).nunique().hid.idxmax()\n",
    "popular_prop = dfboiler.groupby(['proptype']).nunique().hid.idxmax()\n",
    "popular_area = dfboiler.groupby(['floorarea_band']).nunique().hid.idxmax()"
   ]
  },
  {
   "cell_type": "code",
   "execution_count": null,
   "metadata": {},
   "outputs": [],
   "source": [
    "#dfboiler_temp = dfboiler[(dfboiler.proptype==popular_prop) & (dfloft.age==popular_age) & (dfloft.floorarea_band==popular_area)]\n",
    "\n",
    "dfboiler_temp = dfboiler\n",
    "len(dfboiler_temp.hid.unique())\n"
   ]
  },
  {
   "cell_type": "code",
   "execution_count": null,
   "metadata": {},
   "outputs": [],
   "source": [
    "# reassign hid to equally spaced integer values\n",
    "# In the first line, you assign a number to each unique element in your list (stored in the dictionary d; you can easily create it using a dictionary comprehension; set returns the unique elements of names).\n",
    "#Let us use enumerate function in dictionary comprehension. If you have not used enumerate: enumerate can take any thing iterable as input and returns element and its index.\n",
    "# Here we use enumerate function on the list to create index and list element tuples and use them to create a dictionary with dict comprehension. We create a dictionary with elements of the list as the keys and the index of elements as the values. Such dictionaries with element index are often useful in a variety of scenarios.\n",
    "\n",
    "d = {x: i for i, x in enumerate(set(dfboiler_temp.hid))}\n",
    "\n",
    "dfboiler_temp['hid2'] = [d[x] for x in dfboiler_temp['hid']]"
   ]
  },
  {
   "cell_type": "code",
   "execution_count": null,
   "metadata": {},
   "outputs": [],
   "source": [
    "# find percentage of houses that have lower consumption before and after intervention\n",
    "\n",
    "# compare whether before and after average consumption (ignoring year of intervention)\n",
    "\n",
    "dfb = dfboiler_temp.groupby(['hid2','boiler_hue']).mean()\n",
    "\n",
    "dfb = dfb[['gcons']]\n",
    "dfb.head()"
   ]
  },
  {
   "cell_type": "code",
   "execution_count": null,
   "metadata": {},
   "outputs": [],
   "source": [
    "d = dfb.unstack()\n",
    "d.head()"
   ]
  },
  {
   "cell_type": "code",
   "execution_count": null,
   "metadata": {},
   "outputs": [],
   "source": [
    "d.columns = d.columns.droplevel(level=1)\n"
   ]
  },
  {
   "cell_type": "code",
   "execution_count": null,
   "metadata": {},
   "outputs": [],
   "source": [
    "d.columns = ['before', 'during', 'after']"
   ]
  },
  {
   "cell_type": "code",
   "execution_count": null,
   "metadata": {},
   "outputs": [],
   "source": [
    "d = d.dropna()\n",
    "d['diff'] = d.after - d.before"
   ]
  },
  {
   "cell_type": "code",
   "execution_count": null,
   "metadata": {},
   "outputs": [],
   "source": [
    "import numpy as np\n",
    "\n",
    "d['effective'] = np.where(d['diff']<0, '1', '0')\n",
    "d.head()"
   ]
  },
  {
   "cell_type": "code",
   "execution_count": null,
   "metadata": {},
   "outputs": [],
   "source": [
    "nhouses = len(d.index)\n",
    "d['effective']=pd.to_numeric(d.effective)\n",
    "eff_percent = d['effective'].sum() / nhouses\n",
    "eff_percent"
   ]
  },
  {
   "cell_type": "code",
   "execution_count": null,
   "metadata": {},
   "outputs": [],
   "source": [
    "d_eff = d[d.effective==1]\n",
    "d_neff = d[d.effective==0]\n",
    "sns.kdeplot(d_eff.before, shade=True)\n",
    "sns.kdeplot(d_neff.before, shade=True)\n",
    "plt.legend(['effective', 'not effective'])"
   ]
  },
  {
   "cell_type": "code",
   "execution_count": null,
   "metadata": {},
   "outputs": [],
   "source": [
    "sns.kdeplot(d_eff.before, shade=True)\n",
    "sns.kdeplot(d_eff.after, shade=True)\n",
    "sns.kdeplot(d_neff.before, bw=1000, shade=True)\n",
    "sns.kdeplot(d_neff.after, bw=1000, shade=True)"
   ]
  },
  {
   "cell_type": "code",
   "execution_count": null,
   "metadata": {},
   "outputs": [],
   "source": [
    "sns.distplot(d_neff.before)\n",
    "sns.distplot(d_neff.after)"
   ]
  },
  {
   "cell_type": "code",
   "execution_count": null,
   "metadata": {},
   "outputs": [],
   "source": [
    "sns.kdeplot(d_eff.before, shade=True)\n",
    "sns.kdeplot(d_eff.before, bw=500, shade=True)"
   ]
  },
  {
   "cell_type": "code",
   "execution_count": null,
   "metadata": {},
   "outputs": [],
   "source": [
    "d.dtypes"
   ]
  },
  {
   "cell_type": "code",
   "execution_count": null,
   "metadata": {},
   "outputs": [],
   "source": [
    "sns.lineplot(data=dfboiler_temp, x='hid', y='gcons', hue='boiler_hue')\n",
    "plt.show()"
   ]
  },
  {
   "cell_type": "code",
   "execution_count": null,
   "metadata": {},
   "outputs": [],
   "source": [
    "\n",
    "plt.figure(figsize=(25, 5))\n",
    "sns.scatterplot(data=dfboiler_temp, x='hid2', y='gcons', hue='boiler_hue')\n",
    "plt.xlim([0, 500])\n",
    "plt.show()"
   ]
  },
  {
   "cell_type": "code",
   "execution_count": null,
   "metadata": {},
   "outputs": [],
   "source": [
    "# look individually at age, proptype, floorarea_band, epc_band\n",
    "\n",
    "sns.scatterplot(data=df, x='floorarea_band', y='gcons', hue='age')\n",
    "plt.show()"
   ]
  },
  {
   "cell_type": "code",
   "execution_count": null,
   "metadata": {},
   "outputs": [],
   "source": [
    "# split training test data\n",
    "\n",
    "from sklearn.model_selection import train_test_split\n",
    "df = df.fillna(value=0)\n",
    "x = df[['floorarea_band', 'age', 'proptype', 'epc_band', 'imd_eng', 'mainheatfuel', 'walls', 'cwi', 'loftins', 'boiler']]\n",
    "y = df.gcons\n",
    "\n",
    "x_train, x_test, y_train, y_test = train_test_split(x, y, train_size=0.8, test_size=0.2, random_state=42)"
   ]
  },
  {
   "cell_type": "code",
   "execution_count": null,
   "metadata": {},
   "outputs": [],
   "source": [
    "# build machine learning model\n",
    "\n",
    "from sklearn.linear_model import LinearRegression\n",
    "\n",
    "lrmodel = LinearRegression()\n",
    "\n"
   ]
  },
  {
   "cell_type": "code",
   "execution_count": null,
   "metadata": {},
   "outputs": [],
   "source": [
    "lrmodel.fit(x_train, y_train)"
   ]
  },
  {
   "cell_type": "code",
   "execution_count": null,
   "metadata": {},
   "outputs": [],
   "source": [
    "predictions = lrmodel.predict(x_test)"
   ]
  },
  {
   "cell_type": "code",
   "execution_count": null,
   "metadata": {},
   "outputs": [],
   "source": [
    "lrmodel.score(x_train, y_train)"
   ]
  },
  {
   "cell_type": "code",
   "execution_count": null,
   "metadata": {},
   "outputs": [],
   "source": [
    "f = plt.figure()\n",
    "ax1 = f.add_subplot(111)\n",
    "ax1.scatter(x_test.iloc[:,1], y_test, c='b', marker=\"s\")\n",
    "ax1.scatter(x_test.iloc[:,1], predictions, c='r', marker=\"+\")\n",
    "\n",
    "plt.show()\n",
    "\n"
   ]
  },
  {
   "cell_type": "code",
   "execution_count": null,
   "metadata": {},
   "outputs": [],
   "source": [
    "x_test.shape"
   ]
  },
  {
   "cell_type": "code",
   "execution_count": null,
   "metadata": {},
   "outputs": [],
   "source": [
    "y_test.shape"
   ]
  },
  {
   "cell_type": "code",
   "execution_count": null,
   "metadata": {},
   "outputs": [],
   "source": [
    "plt.scatter(y_test, predictions)\n",
    "plt.ylim([0, 50000])\n",
    "plt.show()"
   ]
  },
  {
   "cell_type": "code",
   "execution_count": null,
   "metadata": {},
   "outputs": [],
   "source": [
    "# explore gcons with age, property type, floorarea, imd, epc\n",
    "\n",
    "df_inter = df_all[(df_all.year==2012) ]\n",
    "\n",
    "\n",
    "t = df_inter[['cwi', 'loftins', 'boiler', 'gcons', 'econs']]\n",
    "t = t.fillna(value=0)\n",
    "\n",
    "c = temp.columns\n",
    "\n",
    "# the number of columns not to plot\n",
    "k = 2\n",
    "n = len(c)-k\n",
    "\n",
    "temp = t.copy()\n",
    "\n",
    "\n",
    "maxgcons = 50000 + 5000\n",
    "maxecons = 25000 + 5000\n",
    "\n",
    "\n"
   ]
  },
  {
   "cell_type": "code",
   "execution_count": null,
   "metadata": {},
   "outputs": [],
   "source": [
    "f, axes = plt.subplots(1, n, figsize=(2.5*n,3))\n",
    "\n",
    "for i in range(len(c)-k):\n",
    "    xax = len(temp[c[i]].unique())\n",
    "    sns.regplot(x=temp[c[i]], y=temp.gcons, scatter_kws={'alpha':0.1}, ax=axes[i])\n",
    "    axes[i].set_xlim([-1,xax])\n",
    "    axes[i].set_ylim([-5000,maxgcons])\n",
    "    if i!=0:\n",
    "        axes[i].get_yaxis().set_ticks([])\n",
    "        axes[i].set_ylabel('')\n",
    "plt.show()"
   ]
  },
  {
   "cell_type": "code",
   "execution_count": null,
   "metadata": {},
   "outputs": [],
   "source": [
    "f, axes = plt.subplots(1, n, figsize=(2.5*n,3))\n",
    "\n",
    "for i in range(len(c)-k):\n",
    "    xax = len(temp[c[i]].unique())\n",
    "    sns.regplot(x=temp[c[i]], y=temp.econs, scatter_kws={'alpha':0.1}, ax=axes[i])\n",
    "    axes[i].set_xlim([-1,xax])\n",
    "    axes[i].set_ylim([-5000,maxecons])\n",
    "    if i!=0:\n",
    "        axes[i].get_yaxis().set_ticks([])\n",
    "        axes[i].set_ylabel('')\n",
    "plt.show()"
   ]
  },
  {
   "cell_type": "code",
   "execution_count": null,
   "metadata": {},
   "outputs": [],
   "source": [
    "df_all.walls.unique()"
   ]
  },
  {
   "cell_type": "code",
   "execution_count": null,
   "metadata": {},
   "outputs": [],
   "source": []
  },
  {
   "cell_type": "code",
   "execution_count": null,
   "metadata": {},
   "outputs": [],
   "source": []
  }
 ],
 "metadata": {
  "kernelspec": {
   "display_name": "Python 3",
   "language": "python",
   "name": "python3"
  },
  "language_info": {
   "codemirror_mode": {
    "name": "ipython",
    "version": 3
   },
   "file_extension": ".py",
   "mimetype": "text/x-python",
   "name": "python",
   "nbconvert_exporter": "python",
   "pygments_lexer": "ipython3",
   "version": "3.6.8"
  }
 },
 "nbformat": 4,
 "nbformat_minor": 2
}
