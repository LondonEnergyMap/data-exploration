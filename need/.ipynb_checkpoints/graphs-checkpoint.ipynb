{
 "cells": [
  {
   "cell_type": "code",
   "execution_count": null,
   "metadata": {},
   "outputs": [],
   "source": [
    "import pandas as pd\n",
    "\n",
    "# filepath to CLEANED need data\n",
    "filepath = 'https://media.githubusercontent.com/media/LondonEnergyMap/cleandata/master/need/need_ldn.csv'\n",
    "\n",
    "# read csv into dataframe\n",
    "df_all = pd.read_csv(filepath)\n",
    "df_all.head()"
   ]
  },
  {
   "cell_type": "code",
   "execution_count": null,
   "metadata": {},
   "outputs": [],
   "source": [
    "# map gas codes\n",
    "\n",
    "gas_map = {1: 'gas',\n",
    "           2: 'other'}\n",
    "\n",
    "df_all['main heating fuel'] = df_all['mainheatfuel'].map(gas_map)\n"
   ]
  },
  {
   "cell_type": "code",
   "execution_count": null,
   "metadata": {},
   "outputs": [],
   "source": [
    "import seaborn as sns\n",
    "from matplotlib import pyplot as plt\n",
    "\n",
    "sns.set_style('whitegrid')"
   ]
  },
  {
   "cell_type": "code",
   "execution_count": null,
   "metadata": {},
   "outputs": [],
   "source": [
    "temp = df_all[df_all.year == 2012]\n",
    "\n",
    "tfa_labels = ['1-50', '51-100', '101-150', 'over 151']\n",
    "\n",
    "fig, axes = plt.subplots(1, 2, figsize=(10,5))\n",
    "sns.violinplot(temp.floorarea_band, temp.gcons, hue=temp['main heating fuel'], split=True, ax=axes[0])\n",
    "axes[0].set_xticklabels(tfa_labels, fontsize=15)\n",
    "axes[0].set_xlabel('floor area bands ($m^2$)', fontsize=15)\n",
    "axes[0].set_ylabel('annual gas consumption (kWh)', fontsize=15)\n",
    "axes[0].tick_params(axis=\"y\", labelsize=12)\n",
    "\n",
    "sns.violinplot(temp.floorarea_band, temp.econs, hue=temp['main heating fuel'], split=True, ax=axes[1])\n",
    "axes[1].set_xticklabels(tfa_labels, fontsize=15)\n",
    "axes[1].set_xlabel('floor area bands ($m^2$)', fontsize=15)\n",
    "axes[1].set_ylabel('')\n",
    "axes[1].tick_params(axis=\"y\", labelsize=12)\n",
    "\n",
    "plt.tight_layout()\n",
    "plt.savefig('NEED_floor_violin.pdf')"
   ]
  },
  {
   "cell_type": "code",
   "execution_count": null,
   "metadata": {},
   "outputs": [],
   "source": [
    "epcmeterpath = 'epcshort_postcodefull.csv'\n",
    "\n",
    "dfepcmeter = pd.read_csv(epcmeterpath)\n",
    "dfepcmeter.head()"
   ]
  },
  {
   "cell_type": "code",
   "execution_count": null,
   "metadata": {},
   "outputs": [],
   "source": []
  }
 ],
 "metadata": {
  "kernelspec": {
   "display_name": "Python 3",
   "language": "python",
   "name": "python3"
  },
  "language_info": {
   "codemirror_mode": {
    "name": "ipython",
    "version": 3
   },
   "file_extension": ".py",
   "mimetype": "text/x-python",
   "name": "python",
   "nbconvert_exporter": "python",
   "pygments_lexer": "ipython3",
   "version": "3.6.8"
  }
 },
 "nbformat": 4,
 "nbformat_minor": 2
}
