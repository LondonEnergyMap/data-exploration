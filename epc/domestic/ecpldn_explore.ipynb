{
 "cells": [
  {
   "cell_type": "code",
   "execution_count": 28,
   "metadata": {},
   "outputs": [
    {
     "data": {
      "text/html": [
       "<div>\n",
       "<style scoped>\n",
       "    .dataframe tbody tr th:only-of-type {\n",
       "        vertical-align: middle;\n",
       "    }\n",
       "\n",
       "    .dataframe tbody tr th {\n",
       "        vertical-align: top;\n",
       "    }\n",
       "\n",
       "    .dataframe thead th {\n",
       "        text-align: right;\n",
       "    }\n",
       "</style>\n",
       "<table border=\"1\" class=\"dataframe\">\n",
       "  <thead>\n",
       "    <tr style=\"text-align: right;\">\n",
       "      <th></th>\n",
       "      <th>key</th>\n",
       "      <th>add1</th>\n",
       "      <th>add2</th>\n",
       "      <th>add3</th>\n",
       "      <th>pcode</th>\n",
       "      <th>bref</th>\n",
       "      <th>curr_enr</th>\n",
       "      <th>poten_enr</th>\n",
       "      <th>prop_type</th>\n",
       "      <th>builtform</th>\n",
       "      <th>...</th>\n",
       "      <th>gascons</th>\n",
       "      <th>gasmeters</th>\n",
       "      <th>gasavg</th>\n",
       "      <th>gasmid</th>\n",
       "      <th>gasmatch</th>\n",
       "      <th>eleccons</th>\n",
       "      <th>elecmeters</th>\n",
       "      <th>elecavg</th>\n",
       "      <th>elecmid</th>\n",
       "      <th>elecmatch</th>\n",
       "    </tr>\n",
       "  </thead>\n",
       "  <tbody>\n",
       "    <tr>\n",
       "      <th>0</th>\n",
       "      <td>1000443220160419070438</td>\n",
       "      <td>23, Middle Road</td>\n",
       "      <td>NaN</td>\n",
       "      <td>NaN</td>\n",
       "      <td>SW16 4HW</td>\n",
       "      <td>1575833178</td>\n",
       "      <td>F</td>\n",
       "      <td>C</td>\n",
       "      <td>House</td>\n",
       "      <td>End-Terrace</td>\n",
       "      <td>...</td>\n",
       "      <td>540917.0</td>\n",
       "      <td>39</td>\n",
       "      <td>13869.666667</td>\n",
       "      <td>12171.0</td>\n",
       "      <td>exact</td>\n",
       "      <td>141198.94285999998</td>\n",
       "      <td>40</td>\n",
       "      <td>3529.9735714000008</td>\n",
       "      <td>2996.8</td>\n",
       "      <td>exact</td>\n",
       "    </tr>\n",
       "    <tr>\n",
       "      <th>1</th>\n",
       "      <td>357210820131128061136</td>\n",
       "      <td>106, Austen Close</td>\n",
       "      <td>NaN</td>\n",
       "      <td>NaN</td>\n",
       "      <td>SE28 8AZ</td>\n",
       "      <td>869007668</td>\n",
       "      <td>D</td>\n",
       "      <td>B</td>\n",
       "      <td>House</td>\n",
       "      <td>Mid-Terrace</td>\n",
       "      <td>...</td>\n",
       "      <td>514815.07298</td>\n",
       "      <td>56</td>\n",
       "      <td>9193.1263032</td>\n",
       "      <td>8163.5</td>\n",
       "      <td>exact</td>\n",
       "      <td>183765.0</td>\n",
       "      <td>55</td>\n",
       "      <td>3341.1818182</td>\n",
       "      <td>2945.5</td>\n",
       "      <td>exact</td>\n",
       "    </tr>\n",
       "    <tr>\n",
       "      <th>2</th>\n",
       "      <td>492562220100602100640</td>\n",
       "      <td>70b, Greenwood Road</td>\n",
       "      <td>NaN</td>\n",
       "      <td>NaN</td>\n",
       "      <td>E8 1NE</td>\n",
       "      <td>371846768</td>\n",
       "      <td>C</td>\n",
       "      <td>B</td>\n",
       "      <td>Flat</td>\n",
       "      <td>NO DATA!</td>\n",
       "      <td>...</td>\n",
       "      <td>708755.68744</td>\n",
       "      <td>54</td>\n",
       "      <td>13125.105323</td>\n",
       "      <td>11384.272997</td>\n",
       "      <td>exact</td>\n",
       "      <td>154986.0</td>\n",
       "      <td>59</td>\n",
       "      <td>2626.8813559</td>\n",
       "      <td>2163.1</td>\n",
       "      <td>exact</td>\n",
       "    </tr>\n",
       "    <tr>\n",
       "      <th>3</th>\n",
       "      <td>928068720130718050717</td>\n",
       "      <td>113, Blaker Court</td>\n",
       "      <td>Fairlawn</td>\n",
       "      <td>NaN</td>\n",
       "      <td>SE7 7EU</td>\n",
       "      <td>383628078</td>\n",
       "      <td>B</td>\n",
       "      <td>B</td>\n",
       "      <td>Flat</td>\n",
       "      <td>End-Terrace</td>\n",
       "      <td>...</td>\n",
       "      <td>205392.0</td>\n",
       "      <td>29</td>\n",
       "      <td>7082.482758600001</td>\n",
       "      <td>6900.0</td>\n",
       "      <td>exact</td>\n",
       "      <td>84558.9</td>\n",
       "      <td>28</td>\n",
       "      <td>3019.9607143000007</td>\n",
       "      <td>2920.75</td>\n",
       "      <td>exact</td>\n",
       "    </tr>\n",
       "    <tr>\n",
       "      <th>4</th>\n",
       "      <td>1111225520140408060420</td>\n",
       "      <td>Flat 12 Cranmer Court</td>\n",
       "      <td>Wickliffe Avenue</td>\n",
       "      <td>NaN</td>\n",
       "      <td>N3 3HG</td>\n",
       "      <td>6444121278</td>\n",
       "      <td>D</td>\n",
       "      <td>C</td>\n",
       "      <td>Flat</td>\n",
       "      <td>Semi-Detached</td>\n",
       "      <td>...</td>\n",
       "      <td>213245.30168</td>\n",
       "      <td>20</td>\n",
       "      <td>10662.265084</td>\n",
       "      <td>10966.864491</td>\n",
       "      <td>exact</td>\n",
       "      <td>97857.7</td>\n",
       "      <td>24</td>\n",
       "      <td>4077.4041667</td>\n",
       "      <td>3146.6</td>\n",
       "      <td>exact</td>\n",
       "    </tr>\n",
       "  </tbody>\n",
       "</table>\n",
       "<p>5 rows × 67 columns</p>\n",
       "</div>"
      ],
      "text/plain": [
       "                      key                   add1              add2 add3  \\\n",
       "0  1000443220160419070438        23, Middle Road               NaN  NaN   \n",
       "1   357210820131128061136      106, Austen Close               NaN  NaN   \n",
       "2   492562220100602100640    70b, Greenwood Road               NaN  NaN   \n",
       "3   928068720130718050717      113, Blaker Court          Fairlawn  NaN   \n",
       "4  1111225520140408060420  Flat 12 Cranmer Court  Wickliffe Avenue  NaN   \n",
       "\n",
       "      pcode        bref curr_enr poten_enr prop_type      builtform  \\\n",
       "0  SW16 4HW  1575833178        F         C     House    End-Terrace   \n",
       "1  SE28 8AZ   869007668        D         B     House    Mid-Terrace   \n",
       "2    E8 1NE   371846768        C         B      Flat       NO DATA!   \n",
       "3   SE7 7EU   383628078        B         B      Flat    End-Terrace   \n",
       "4    N3 3HG  6444121278        D         C      Flat  Semi-Detached   \n",
       "\n",
       "     ...           gascons gasmeters             gasavg        gasmid  \\\n",
       "0    ...          540917.0        39       13869.666667       12171.0   \n",
       "1    ...      514815.07298        56       9193.1263032        8163.5   \n",
       "2    ...      708755.68744        54       13125.105323  11384.272997   \n",
       "3    ...          205392.0        29  7082.482758600001        6900.0   \n",
       "4    ...      213245.30168        20       10662.265084  10966.864491   \n",
       "\n",
       "   gasmatch            eleccons  elecmeters             elecavg  elecmid  \\\n",
       "0     exact  141198.94285999998          40  3529.9735714000008   2996.8   \n",
       "1     exact            183765.0          55        3341.1818182   2945.5   \n",
       "2     exact            154986.0          59        2626.8813559   2163.1   \n",
       "3     exact             84558.9          28  3019.9607143000007  2920.75   \n",
       "4     exact             97857.7          24        4077.4041667   3146.6   \n",
       "\n",
       "   elecmatch  \n",
       "0      exact  \n",
       "1      exact  \n",
       "2      exact  \n",
       "3      exact  \n",
       "4      exact  \n",
       "\n",
       "[5 rows x 67 columns]"
      ]
     },
     "execution_count": 28,
     "metadata": {},
     "output_type": "execute_result"
    }
   ],
   "source": [
    "import pandas as pd\n",
    "\n",
    "filepath = 'https://raw.githubusercontent.com/LondonEnergyMap/cleandata/master/epc/domestic/epc_postcodesample.csv'\n",
    "\n",
    "df = pd.read_csv(filepath, low_memory=False)\n",
    "df.head()"
   ]
  },
  {
   "cell_type": "code",
   "execution_count": 29,
   "metadata": {},
   "outputs": [
    {
     "data": {
      "text/plain": [
       "Index(['key', 'add1', 'add2', 'add3', 'pcode', 'bref', 'curr_enr', 'poten_enr',\n",
       "       'prop_type', 'builtform', 'insp_date', 'localauth_code', 'constit_code',\n",
       "       'transact_type', 'curr_encons', 'poten_encons', 'curr_co2',\n",
       "       'curr_co2perarea', 'poten_co2', 'tfa', 'mainsgas', 'flvl', 'flattop',\n",
       "       'flattop_cnt', 'mainheatcontrol', 'glaze_percent', 'glaze_type',\n",
       "       'glaze_area', 'nextension', 'nrooms', 'nheatedrooms', 'led_percent',\n",
       "       'nfireplace', 'hotwtr', 'hotwtr_eff', 'floor', 'floor_eff', 'window',\n",
       "       'window_eff', 'wall', 'wall_eff', 'heat2', 'heat2_eff', 'roof',\n",
       "       'roof_eff', 'heat', 'heat_eff', 'control', 'control_eff', 'light',\n",
       "       'light_eff', 'mainfuel', 'windt', 'fheight', 'pv', 'solarwtr',\n",
       "       'mechvent', 'gascons', 'gasmeters', 'gasavg', 'gasmid', 'gasmatch',\n",
       "       'eleccons', 'elecmeters', 'elecavg', 'elecmid', 'elecmatch'],\n",
       "      dtype='object')"
      ]
     },
     "execution_count": 29,
     "metadata": {},
     "output_type": "execute_result"
    }
   ],
   "source": [
    "df.columns"
   ]
  },
  {
   "cell_type": "code",
   "execution_count": 30,
   "metadata": {},
   "outputs": [
    {
     "data": {
      "text/plain": [
       "array(['House', 'Flat', 'Maisonette', 'Bungalow'], dtype=object)"
      ]
     },
     "execution_count": 30,
     "metadata": {},
     "output_type": "execute_result"
    }
   ],
   "source": [
    "df.prop_type.unique()"
   ]
  },
  {
   "cell_type": "code",
   "execution_count": 31,
   "metadata": {},
   "outputs": [
    {
     "data": {
      "text/plain": [
       "array(['End-Terrace', 'Mid-Terrace', 'NO DATA!', 'Semi-Detached',\n",
       "       'Detached', 'Enclosed End-Terrace', 'Enclosed Mid-Terrace'],\n",
       "      dtype=object)"
      ]
     },
     "execution_count": 31,
     "metadata": {},
     "output_type": "execute_result"
    }
   ],
   "source": [
    "df.builtform.unique()"
   ]
  },
  {
   "cell_type": "code",
   "execution_count": 32,
   "metadata": {},
   "outputs": [
    {
     "data": {
      "text/plain": [
       "array(['marketed sale', 'none of the above', 'rental (private)',\n",
       "       'non marketed sale', 'rental (social)', 'not recorded',\n",
       "       'new dwelling', 'ECO assessment', 'assessment for green deal',\n",
       "       'rental', 'FiT application', 'unknown',\n",
       "       'rental (social) - this is for backwards compatibility only and should not be used'],\n",
       "      dtype=object)"
      ]
     },
     "execution_count": 32,
     "metadata": {},
     "output_type": "execute_result"
    }
   ],
   "source": [
    "df.transact_type.unique()"
   ]
  },
  {
   "cell_type": "code",
   "execution_count": 33,
   "metadata": {},
   "outputs": [
    {
     "data": {
      "text/plain": [
       "array(['Programmer, TRVs and bypass', 'Programmer, no room thermostat',\n",
       "       'Programmer, room thermostat and TRVs', 'Room thermostat only',\n",
       "       'Programmer and room thermostat',\n",
       "       'Time and temperature zone control', 'Flat rate charging, TRVs',\n",
       "       'Manual charge control',\n",
       "       'No time or thermostatic control of room temperature',\n",
       "       'Programmer, TRVs and boiler energy manager',\n",
       "       'No thermostatic control of room temperature',\n",
       "       'Flat rate charging, programmer and TRVs',\n",
       "       'Programmer and appliance thermostats',\n",
       "       'SAP05:Main-Heating-Controls', 'Main-Heating-Controls',\n",
       "       'Flat rate charging, no thermostatic control of room temperature',\n",
       "       'TRVs and bypass', 'Appliance thermostats',\n",
       "       'Charging system linked to use of community heating, programmer and TRVs',\n",
       "       'Programmer and at least two room thermostats',\n",
       "       'Temperature zone control', 'Automatic charge control',\n",
       "       'Programmer, TRVs and flow switch', 'None',\n",
       "       'Flat rate charging, no thermostatic control',\n",
       "       'Flat rate charging, room thermostat only',\n",
       "       'Unit charging, programmer and TRVs',\n",
       "       'Flat rate charging, programmer and room thermostat',\n",
       "       'Room thermostats only',\n",
       "       'Flat rate charging, no stat control of room temperature',\n",
       "       'Charging system linked to use of community heating, programmer and room thermostat',\n",
       "       'Programmer and room thermostats'], dtype=object)"
      ]
     },
     "execution_count": 33,
     "metadata": {},
     "output_type": "execute_result"
    }
   ],
   "source": [
    "df.mainheatcontrol.unique()"
   ]
  },
  {
   "cell_type": "code",
   "execution_count": 34,
   "metadata": {},
   "outputs": [
    {
     "data": {
      "text/plain": [
       "array(['double glazing, unknown install date',\n",
       "       'double glazing installed before 2002',\n",
       "       'double glazing installed during or after 2002', 'INVALID!',\n",
       "       'NO DATA!', 'single glazing', 'not defined', 'secondary glazing',\n",
       "       'triple glazing'], dtype=object)"
      ]
     },
     "execution_count": 34,
     "metadata": {},
     "output_type": "execute_result"
    }
   ],
   "source": [
    "df.glaze_type.unique()"
   ]
  },
  {
   "cell_type": "code",
   "execution_count": 35,
   "metadata": {},
   "outputs": [
    {
     "data": {
      "text/plain": [
       "array(['Normal', 'NO DATA!', 'Less Than Typical',\n",
       "       'Much More Than Typical', 'More Than Typical'], dtype=object)"
      ]
     },
     "execution_count": 35,
     "metadata": {},
     "output_type": "execute_result"
    }
   ],
   "source": [
    "df.glaze_area.unique()"
   ]
  },
  {
   "cell_type": "code",
   "execution_count": 36,
   "metadata": {},
   "outputs": [
    {
     "data": {
      "text/plain": [
       "array(['From main system, no cylinder thermostat', 'From main system',\n",
       "       'Electric immersion, standard tariff', 'Room heaters, electric',\n",
       "       'Community scheme', 'Electric immersion, off-peak',\n",
       "       'Gas multipoint', 'From main system, no cylinderstat',\n",
       "       'From main system, flue gas heat recovery',\n",
       "       'From main system, plus solar', 'Room heaters, wood logs',\n",
       "       'SAP05:Hot-Water', 'No system present: electric immersion assumed',\n",
       "       'Hot-Water', 'Community scheme, no cylinder thermostat',\n",
       "       'Community scheme, plus solar',\n",
       "       'Electric instantaneous at point of use',\n",
       "       'Gas boiler/circulator, no cylinder thermostat',\n",
       "       'Room heaters, mains gas', 'Gas instantaneous at point of use',\n",
       "       'none', 'Community scheme with CHP',\n",
       "       'Electric immersion, off-peak, plus solar'], dtype=object)"
      ]
     },
     "execution_count": 36,
     "metadata": {},
     "output_type": "execute_result"
    }
   ],
   "source": [
    "df.hotwtr.unique()"
   ]
  },
  {
   "cell_type": "code",
   "execution_count": 37,
   "metadata": {},
   "outputs": [
    {
     "data": {
      "text/plain": [
       "array(['Poor', 'Good', 'Very Good', 'Very Poor', 'Average', nan],\n",
       "      dtype=object)"
      ]
     },
     "execution_count": 37,
     "metadata": {},
     "output_type": "execute_result"
    }
   ],
   "source": [
    "df.hotwtr_eff.unique()"
   ]
  },
  {
   "cell_type": "code",
   "execution_count": 38,
   "metadata": {},
   "outputs": [
    {
     "data": {
      "text/plain": [
       "array(['Suspended, no insulation (assumed)',\n",
       "       'Solid, no insulation (assumed)', 'Solid, insulated',\n",
       "       '(other premises below)',\n",
       "       'Average thermal transmittance 0.18 W/mÂ²K',\n",
       "       '(another dwelling below)',\n",
       "       'Suspended, limited insulation (assumed)',\n",
       "       'Average thermal transmittance 0.16 W/m²K', 'SAP05:Floor',\n",
       "       'Solid, limited insulation (assumed)', ', no insulation (assumed)',\n",
       "       'Suspended, insulated (assumed)', 'Floor',\n",
       "       'Average thermal transmittance 0.20 W/m?K',\n",
       "       'Solid, insulated (assumed)',\n",
       "       'To external air, insulated (assumed)',\n",
       "       'To unheated space, no insulation (assumed)',\n",
       "       'Average thermal transmittance 0.21 W/m?K',\n",
       "       'Average thermal transmittance 0.18 W/m²K',\n",
       "       'Average thermal transmittance 0.16 W/m?K', 'Suspended, insulated',\n",
       "       'To external air, no insulation (assumed)',\n",
       "       'Average thermal transmittance 0.17 W/m?K',\n",
       "       '(Same dwelling below) insulated (assumed)',\n",
       "       'Average thermal transmittance 0.47 W/m?K',\n",
       "       'Average thermal transmittance 0.10 W/m²K',\n",
       "       'To unheated space,  no insulation (assumed)',\n",
       "       'To unheated space, uninsulated (assumed)',\n",
       "       'To external air, limited insulation (assumed)',\n",
       "       'Average thermal transmittance 1.20 W/m²K',\n",
       "       'To unheated space, limited insulation (assumed)',\n",
       "       'To external air, uninsulated (assumed)',\n",
       "       'To unheated space, insulated (assumed)',\n",
       "       'Average thermal transmittance 0.20 W/m²K',\n",
       "       'To unheated space, insulated',\n",
       "       'Average thermal transmittance 0.08 W/m²K',\n",
       "       'Average thermal transmittance 0.08 W/m?K',\n",
       "       'Average thermal transmittance 0.19 W/m?K'], dtype=object)"
      ]
     },
     "execution_count": 38,
     "metadata": {},
     "output_type": "execute_result"
    }
   ],
   "source": [
    "df.floor.unique()"
   ]
  },
  {
   "cell_type": "code",
   "execution_count": 39,
   "metadata": {},
   "outputs": [
    {
     "data": {
      "text/plain": [
       "array(['Fully double glazed', 'Mostly double glazing',\n",
       "       'Partial double glazing', 'High performance glazing',\n",
       "       'Single glazed', 'Partial secondary glazing',\n",
       "       'Mostly secondary glazing', 'SAP05:Windows', 'Some double glazing',\n",
       "       'Window', 'Some secondary glazing', 'Full secondary glazing',\n",
       "       'Single glazeddouble glazing', 'Fully triple glazed'], dtype=object)"
      ]
     },
     "execution_count": 39,
     "metadata": {},
     "output_type": "execute_result"
    }
   ],
   "source": [
    "df.window.unique()"
   ]
  },
  {
   "cell_type": "code",
   "execution_count": 40,
   "metadata": {},
   "outputs": [
    {
     "data": {
      "text/plain": [
       "array(['Solid brick, as built, no insulation (assumed)',\n",
       "       'Cavity wall, as built, no insulation (assumed)',\n",
       "       'Solid brick, with internal insulation',\n",
       "       'Solid brick, with external insulation',\n",
       "       'Cavity wall, filled cavity',\n",
       "       'System built, as built, no insulation (assumed)',\n",
       "       'Average thermal transmittance 0.25 W/mÂ²K',\n",
       "       'Average thermal transmittance 0.31 W/m?K',\n",
       "       'Cavity wall, as built, partial insulation (assumed)',\n",
       "       'Cavity wall, as built, insulated (assumed)',\n",
       "       'System built, as built, partial insulation (assumed)',\n",
       "       'Timber frame, as built, insulated (assumed)',\n",
       "       'Average thermal transmittance 0.26 W/m²K',\n",
       "       'Average thermal transmittance 0.25 W/m?K',\n",
       "       'Average thermal transmittance 0.20 W/m?K',\n",
       "       'Timber frame, as built, no insulation (assumed)',\n",
       "       'Timber frame, with additional insulation',\n",
       "       'System built, with internal insulation', 'SAP05:Walls',\n",
       "       'Granite or whin, as built, no insulation (assumed)',\n",
       "       'Average thermal transmittance 0.44 W/m?K', 'Wall',\n",
       "       'Average thermal transmittance 0.30 W/m?K',\n",
       "       'Average thermal transmittance 0.22 W/m?K',\n",
       "       'Solid brick, as built, insulated (assumed)',\n",
       "       'Average thermal transmittance 0.17 W/m?K',\n",
       "       'Average thermal transmittance 0.26 W/m?K',\n",
       "       'System built, as built, insulated (assumed)',\n",
       "       'Average thermal transmittance = 0.43 W/m?K',\n",
       "       'System built, with external insulation',\n",
       "       'Average thermal transmittance 0.28 W/m?K',\n",
       "       'Average thermal transmittance 0.28 W/m²K',\n",
       "       'Average thermal transmittance 0.21 W/m?K',\n",
       "       'Average thermal transmittance 0.19 W/m?K',\n",
       "       'Solid brick, as built, no insulation (assumed) + Chr(13) + Solid brick, as built, insulated (assumed)',\n",
       "       'Average thermal transmittance 0.32 W/m²K',\n",
       "       'Average thermal transmittance 0.18 W/m²K',\n",
       "       'Solid brick, as built, no insulation (assumed) + Chr(13) + Cavity wall, as built, insulated (assumed)',\n",
       "       'Average thermal transmittance 0.27 W/m?K',\n",
       "       'Cavity wall, with external insulation',\n",
       "       'Average thermal transmittance 0.25 W/m²K',\n",
       "       'Average thermal transmittance 0.35 W/m?K',\n",
       "       'Average thermal transmittance = 0.28 W/m?K',\n",
       "       'Average thermal transmittance 0.23 W/m?K',\n",
       "       'Average thermal transmittance 0.29 W/m?K',\n",
       "       'Cavity wall, with internal insulation',\n",
       "       'Average thermal transmittance 0.21 W/m²K',\n",
       "       'Solid brick, as built, partial insulation (assumed)',\n",
       "       'Average thermal transmittance 1.87 W/m²K',\n",
       "       'Average thermal transmittance = 1.62 W/m?K',\n",
       "       'Average thermal transmittance 1.99 W/m²K',\n",
       "       'Timber frame, with internal insulation',\n",
       "       'Average thermal transmittance 0.29 W/m²K',\n",
       "       'Average thermal transmittance 0.27 W/m²K',\n",
       "       'Average thermal transmittance 0.50 W/m&#0178;K',\n",
       "       'Average thermal transmittance 0.33 W/m²K',\n",
       "       'Average thermal transmittance 0.16 W/m²K',\n",
       "       'Average thermal transmittance 0.00 W/m²K',\n",
       "       'Average thermal transmittance 0.17 W/m²K',\n",
       "       'Average thermal transmittance 0.24 W/m?K',\n",
       "       'Average thermal transmittance 0.24 W/m&#0178;K',\n",
       "       'Average thermal transmittance 0.13 W/m²K',\n",
       "       'Average thermal transmittance 0.2 W/m²K',\n",
       "       'Average thermal transmittance 0.3 W/m?K',\n",
       "       'Average thermal transmittance 0.18 W/m?K',\n",
       "       'Average thermal transmittance 0.20 W/m²K',\n",
       "       'Average thermal transmittance 0.23 W/m²K',\n",
       "       'Average thermal transmittance 0.22 W/m²K',\n",
       "       'Average thermal transmittance 0.49 W/m²K',\n",
       "       'Average thermal transmittance 0.14 W/m²K',\n",
       "       'Average thermal transmittance 0.00 W/m?K',\n",
       "       'Average thermal transmittance 0.36 W/m²K',\n",
       "       'Average thermal transmittance 0.34 W/m²K',\n",
       "       'Average thermal transmittance 0.24 W/m²K',\n",
       "       'Average thermal transmittance 0.15 W/m²K'], dtype=object)"
      ]
     },
     "execution_count": 40,
     "metadata": {},
     "output_type": "execute_result"
    }
   ],
   "source": [
    "df.wall.unique()\n"
   ]
  },
  {
   "cell_type": "code",
   "execution_count": 41,
   "metadata": {},
   "outputs": [
    {
     "data": {
      "text/plain": [
       "array(['Room heaters, mains gas', 'None', 'Room heaters, coal',\n",
       "       'No low energy lighting', 'Room heaters, electric',\n",
       "       'Portable electric heaters (assumed)', 'Portable electric heaters',\n",
       "       'Room heaters, wood logs', 'SAP05:Secondary-Heating',\n",
       "       'Room heaters, smokeless fuel', 'Secondary-Heating',\n",
       "       'Room heaters, dual fuel (mineral and wood)',\n",
       "       'Room heaters, anthracite',\n",
       "       'Low energy lighting in 41% of fixed outlets',\n",
       "       'Low energy lighting in 7% of fixed outlets',\n",
       "       'Low energy lighting in 30% of fixed outlets', 'none',\n",
       "       'Low energy lighting in 16% of fixed outlets', 'Room heaters, oil'],\n",
       "      dtype=object)"
      ]
     },
     "execution_count": 41,
     "metadata": {},
     "output_type": "execute_result"
    }
   ],
   "source": [
    "df.heat2.unique()"
   ]
  },
  {
   "cell_type": "code",
   "execution_count": 42,
   "metadata": {},
   "outputs": [
    {
     "data": {
      "text/plain": [
       "array(['Pitched, no insulation (assumed)',\n",
       "       'Pitched, 100 mm loft insulation', '(another dwelling above)',\n",
       "       'Pitched, 200 mm loft insulation',\n",
       "       'Pitched, 150mm loft insulation', 'Pitched, 50 mm loft insulation',\n",
       "       'Flat, no insulation (assumed)',\n",
       "       'Average thermal transmittance 0.18 W/mÂ²K',\n",
       "       'Average thermal transmittance 0.1 W/m?K',\n",
       "       'Flat, limited insulation', 'Pitched, insulated (assumed)',\n",
       "       'Pitched, 12 mm loft insulation',\n",
       "       'Pitched, 150 mm loft insulation', 'Pitched, no insulation',\n",
       "       'Pitched, 25mm loft insulation', '(other premises above)',\n",
       "       'Average thermal transmittance 0.16 W/m?K',\n",
       "       'Pitched, 25 mm loft insulation',\n",
       "       'Pitched, 300 mm loft insulation',\n",
       "       'Flat, limited insulation (assumed)',\n",
       "       'Roof room(s), insulated (assumed)', 'Flat, insulated (assumed)',\n",
       "       'Pitched, 100mm loft insulation', 'Pitched, 75 mm loft insulation',\n",
       "       'Pitched, insulated at rafters', 'SAP05:Roof',\n",
       "       'Pitched, 250mm loft insulation',\n",
       "       'Pitched, limited insulation (assumed)',\n",
       "       'Pitched, 300+ mm loft insulation', 'Roof',\n",
       "       'Pitched, 250 mm loft insulation',\n",
       "       'Average thermal transmittance 0.14 W/m?K',\n",
       "       'Average thermal transmittance 0.03 W/m?K',\n",
       "       'Average thermal transmittance 0.10 W/m?K',\n",
       "       'Roof room(s), ceiling insulated',\n",
       "       'Average thermal transmittance 0.15 W/m?K',\n",
       "       'Pitched, 270 mm loft insulation',\n",
       "       'Pitched, 300+  mm loft insulation',\n",
       "       'Average thermal transmittance 0.12 W/m?K',\n",
       "       'Average thermal transmittance 0.13 W/m²K',\n",
       "       'Average thermal transmittance 0.13 W/m?K',\n",
       "       'Average thermal transmittance 0.20 W/m?K',\n",
       "       'Pitched, no insulation (assumed) + Chr(13) + Pitched, insulated (assumed) + Chr(13) + Roof room(s), insulated (assumed)',\n",
       "       'Pitched, 200mm loft insulation', 'Flat, insulated',\n",
       "       'Pitched, 100 mm loft insulation + Chr(13) + Flat, insulated (assumed)',\n",
       "       'Pitched, no insulation(assumed)',\n",
       "       'Roof room(s), no insulation (assumed)',\n",
       "       'Average thermal transmittance 0.11 W/m²K',\n",
       "       'Average thermal transmittance 0.19 W/m?K',\n",
       "       'Pitched, 50mm loft insulation',\n",
       "       'Average thermal transmittance 0.4 W/m²K',\n",
       "       'Average thermal transmittance = 0.18 W/m?K',\n",
       "       'Roof room(s), limited insulation (assumed)',\n",
       "       'Average thermal transmittance 0.00 W/m&#0178;K',\n",
       "       'Average thermal transmittance 0.20 W/m²K',\n",
       "       'Average thermal transmittance 0.21 W/m?K',\n",
       "       'Average thermal transmittance 0.25 W/m?K',\n",
       "       'Average thermal transmittance 0.18 W/m?K',\n",
       "       'Average thermal transmittance 0.2 W/m²K',\n",
       "       'Average thermal transmittance 0.2 W/m?K',\n",
       "       'Average thermal transmittance 0.18 W/m²K',\n",
       "       'Average thermal transmittance 0.15 W/m²K'], dtype=object)"
      ]
     },
     "execution_count": 42,
     "metadata": {},
     "output_type": "execute_result"
    }
   ],
   "source": [
    "df.roof.unique()\n"
   ]
  },
  {
   "cell_type": "code",
   "execution_count": 43,
   "metadata": {},
   "outputs": [
    {
     "data": {
      "text/plain": [
       "array(['Boiler and radiators, mains gas', 'Warm air, mains gas',\n",
       "       'Boiler and underfloor heating, mains gas', 'Community scheme',\n",
       "       'Electric storage heaters', 'Room heaters, wood logs',\n",
       "       'Boiler and radiators, electric', 'Room heaters, electric',\n",
       "       'SAP05:Main-Heating', 'Main-Heating', 'Community scheme with CHP',\n",
       "       'Electric underfloor heating', 'Electric ceiling heating',\n",
       "       'Portable electric heaters assumed for most rooms',\n",
       "       'No system present: electric heaters assumed',\n",
       "       'Community scheme, mains gas', 'Room heaters, mains gas',\n",
       "       'Warm air, Electricaire', 'Community scheme, biomass',\n",
       "       'Community scheme with CHP, biomass and mains gas',\n",
       "       'Room heaters, radiators, electric'], dtype=object)"
      ]
     },
     "execution_count": 43,
     "metadata": {},
     "output_type": "execute_result"
    }
   ],
   "source": [
    "df.heat.unique()\n"
   ]
  },
  {
   "cell_type": "code",
   "execution_count": 44,
   "metadata": {},
   "outputs": [
    {
     "data": {
      "text/plain": [
       "array(['Programmer, TRVs and bypass', 'Programmer, no room thermostat',\n",
       "       'Programmer, room thermostat and TRVs', 'Room thermostat only',\n",
       "       'Programmer and room thermostat',\n",
       "       'Time and temperature zone control', 'Flat rate charging, TRVs',\n",
       "       'Manual charge control',\n",
       "       'No time or thermostatic control of room temperature',\n",
       "       'Programmer, TRVs and boiler energy manager',\n",
       "       'No thermostatic control of room temperature',\n",
       "       'Flat rate charging, programmer and TRVs',\n",
       "       'Programmer and appliance thermostats',\n",
       "       'SAP05:Main-Heating-Controls', 'Main-Heating-Controls',\n",
       "       'Flat rate charging, no thermostatic control of room temperature',\n",
       "       'TRVs and bypass', 'Appliance thermostats',\n",
       "       'Charging system linked to use of community heating, programmer and TRVs',\n",
       "       'Programmer and at least two room thermostats',\n",
       "       'Temperature zone control', 'Automatic charge control',\n",
       "       'Programmer, TRVs and flow switch', 'None',\n",
       "       'Flat rate charging, no thermostatic control',\n",
       "       'Flat rate charging, room thermostat only',\n",
       "       'Unit charging, programmer and TRVs',\n",
       "       'Flat rate charging, programmer and room thermostat',\n",
       "       'Room thermostats only',\n",
       "       'Flat rate charging, no stat control of room temperature',\n",
       "       'Charging system linked to use of community heating, programmer and room thermostat',\n",
       "       'Programmer and room thermostats'], dtype=object)"
      ]
     },
     "execution_count": 44,
     "metadata": {},
     "output_type": "execute_result"
    }
   ],
   "source": [
    "df.control.unique()\n"
   ]
  },
  {
   "cell_type": "code",
   "execution_count": 45,
   "metadata": {},
   "outputs": [
    {
     "data": {
      "text/plain": [
       "array(['Low energy lighting in 56% of fixed outlets',\n",
       "       'Low energy lighting in 87% of fixed outlets',\n",
       "       'No low energy lighting',\n",
       "       'Low energy lighting in 78% of fixed outlets',\n",
       "       'Low energy lighting in 21% of fixed outlets',\n",
       "       'Low energy lighting in 17% of fixed outlets', 'From main system',\n",
       "       'Low energy lighting in all fixed outlets',\n",
       "       'Low energy lighting in 75% of fixed outlets',\n",
       "       'Low energy lighting in 33% of fixed outlets',\n",
       "       'Low energy lighting in 37% of fixed outlets',\n",
       "       'Low energy lighting in 50% of fixed outlets',\n",
       "       'Low energy lighting in 15% of fixed outlets',\n",
       "       'Low energy lighting in 31% of fixed outlets',\n",
       "       'Low energy lighting in 80% of fixed outlets',\n",
       "       'Low energy lighting in 25% of fixed outlets',\n",
       "       'Low energy lighting in 45% of fixed outlets',\n",
       "       'Low energy lighting in 62% of fixed outlets',\n",
       "       'Low energy lighting in 58% of fixed outlets',\n",
       "       'Low energy lighting in 70% of fixed outlets',\n",
       "       'Low energy lighting in 90% of fixed outlets',\n",
       "       'Low energy lighting in 40% of fixed outlets',\n",
       "       'Low energy lighting in 82% of fixed outlets',\n",
       "       'Low energy lighting in 20% of fixed outlets',\n",
       "       'Low energy lighting in 43% of fixed outlets',\n",
       "       'Low energy lighting in 38% of fixed outlets',\n",
       "       'Low energy lighting in 60% of fixed outlets',\n",
       "       'Low energy lighting in 44% of fixed outlets',\n",
       "       'Low energy lighting in 5% of fixed outlets',\n",
       "       'Low energy lighting in 29% of fixed outlets',\n",
       "       'Low energy lighting in 86% of fixed outlets',\n",
       "       'Low energy lighting in 10% of fixed outlets',\n",
       "       'Low energy lighting in 14% of fixed outlets', 'SAP05:Lighting',\n",
       "       'Low energy lighting in 88% of fixed outlets',\n",
       "       'Low energy lighting in 22% of fixed outlets',\n",
       "       'Low energy lighting in 35% of fixed outlets',\n",
       "       'Low energy lighting in 71% of fixed outlets',\n",
       "       'Low energy lighting in 67% of fixed outlets',\n",
       "       'Low energy lighting in 11% of fixed outlets',\n",
       "       'Low energy lighting in 91% of fixed outlets', 'Lighting',\n",
       "       'Low energy lighting in 83% of fixed outlets',\n",
       "       'Low energy lighting in 8% of fixed outlets',\n",
       "       'Low energy lighting in 18% of fixed outlets',\n",
       "       'Low energy lighting in 89% of fixed outlets',\n",
       "       'Low energy lighting in 64% of fixed outlets',\n",
       "       'Low energy lighting in 85% of fixed outlets',\n",
       "       'Low energy lighting in 65% of fixed outlets',\n",
       "       'Low energy lighting in 42% of fixed outlets',\n",
       "       'Low energy lighting in 34% of fixed outlets',\n",
       "       'Low energy lighting in 47% of fixed outlets',\n",
       "       'Low energy lighting in 27% of fixed outlets',\n",
       "       'Low energy lighting in 30% of fixed outlets',\n",
       "       'Low energy lighting in 54% of fixed outlets',\n",
       "       'Low energy lighting in 63% of fixed outlets',\n",
       "       'Low energy lighting in 12% of fixed outlets',\n",
       "       'Low energy lighting in 23% of fixed outlets',\n",
       "       'Low energy lighting in 57% of fixed outlets',\n",
       "       'Low energy lighting in 39% of fixed outlets',\n",
       "       'Low energy lighting in 28% of fixed outlets',\n",
       "       'Low energy lighting in 32% of fixed outlets',\n",
       "       'Low energy lighting in 79% of fixed outlets',\n",
       "       'Low energy lighting in 16% of fixed outlets',\n",
       "       'Low energy lighting in 4% of fixed outlets',\n",
       "       'Low energy lighting in 73% of fixed outlets',\n",
       "       'Low energy lighting in 9% of fixed outlets',\n",
       "       'From main system, no cylinderstat',\n",
       "       'Low energy lighting in 48% of fixed outlets',\n",
       "       'Low energy lighting in 53% of fixed outlets',\n",
       "       'Low energy lighting in 26% of fixed outlets',\n",
       "       'Low energy lighting in 7% of fixed outlets',\n",
       "       'Low energy lighting in 13% of fixed outlets',\n",
       "       'Low energy lighting in 6% of fixed outlets',\n",
       "       'Low energy lighting in 92% of fixed outlets',\n",
       "       'Low energy lighting in 19% of fixed outlets',\n",
       "       'Low energy lighting in 77% of fixed outlets',\n",
       "       'Low energy lighting in 66% of fixed outlets',\n",
       "       'Low energy lighting in 36% of fixed outlets',\n",
       "       'Low energy lighting in 81% of fixed outlets',\n",
       "       'Electric immersion, off-peak',\n",
       "       'Low energy lighting in 46% of fixed outlets',\n",
       "       'Low energy lighting in 33% fixed outlets',\n",
       "       'Low energy lighting in 41% of fixed outlets'], dtype=object)"
      ]
     },
     "execution_count": 45,
     "metadata": {},
     "output_type": "execute_result"
    }
   ],
   "source": [
    "df.light.unique()\n"
   ]
  },
  {
   "cell_type": "code",
   "execution_count": 46,
   "metadata": {},
   "outputs": [
    {
     "data": {
      "text/plain": [
       "array(['mains gas (not community)',\n",
       "       'mains gas - this is for backwards compatibility only and should not be used',\n",
       "       'INVALID!', 'mains gas (community)',\n",
       "       'electricity - this is for backwards compatibility only and should not be used',\n",
       "       'electricity (not community)', 'NO DATA!',\n",
       "       'Electricity: electricity, unspecified tariff',\n",
       "       'To be used only when there is no heating/hot-water system',\n",
       "       'smokeless coal',\n",
       "       'Community heating schemes: heat from boilers - biomass'],\n",
       "      dtype=object)"
      ]
     },
     "execution_count": 46,
     "metadata": {},
     "output_type": "execute_result"
    }
   ],
   "source": [
    "df.mainfuel.unique()\n"
   ]
  },
  {
   "cell_type": "code",
   "execution_count": 47,
   "metadata": {},
   "outputs": [
    {
     "data": {
      "text/plain": [
       "array([  0, -99,  -1,   1])"
      ]
     },
     "execution_count": 47,
     "metadata": {},
     "output_type": "execute_result"
    }
   ],
   "source": [
    "df.windt.unique()\n"
   ]
  },
  {
   "cell_type": "code",
   "execution_count": 48,
   "metadata": {},
   "outputs": [
    {
     "data": {
      "text/plain": [
       "array([2.53 ,   nan, 2.24 , 2.45 , 3.   , 2.4  , 2.25 , 2.5  , 2.72 ,\n",
       "       2.83 , 2.56 , 2.28 , 2.47 , 2.81 , 2.7  , 2.52 , 2.96 , 2.46 ,\n",
       "       2.31 , 2.49 , 2.41 , 2.8  , 2.44 , 2.57 , 2.58 , 2.3  , 2.59 ,\n",
       "       2.42 , 2.   , 2.35 , 2.6  , 2.74 , 2.32 , 2.33 , 2.66 , 2.95 ,\n",
       "       2.34 , 2.61 , 2.36 , 2.65 , 2.23 , 3.15 , 2.67 , 2.15 , 2.62 ,\n",
       "       2.98 , 2.37 , 2.43 , 2.75 , 2.97 , 3.3  , 2.64 , 3.27 , 2.39 ,\n",
       "       2.55 , 2.68 , 2.82 , 2.29 , 3.1  , 2.26 , 2.76 , 2.69 , 2.447,\n",
       "       3.09 , 3.334, 2.63 , 2.77 , 2.71 , 3.07 , 2.9  , 2.48 , 3.28 ,\n",
       "       2.38 , 2.16 , 2.435, 2.54 , 3.12 , 2.94 , 2.1  , 2.79 , 3.6  ,\n",
       "       3.01 , 2.2  , 2.73 , 3.2  , 2.85 , 2.51 , 2.13 , 3.074, 2.84 ,\n",
       "       2.558, 3.18 , 2.19 , 2.87 , 3.16 , 2.99 , 2.27 , 2.86 , 2.08 ])"
      ]
     },
     "execution_count": 48,
     "metadata": {},
     "output_type": "execute_result"
    }
   ],
   "source": [
    "df.fheight.unique()\n"
   ]
  },
  {
   "cell_type": "code",
   "execution_count": 49,
   "metadata": {},
   "outputs": [
    {
     "data": {
      "text/plain": [
       "array([-1,  0, 40])"
      ]
     },
     "execution_count": 49,
     "metadata": {},
     "output_type": "execute_result"
    }
   ],
   "source": [
    "df.pv.unique()\n"
   ]
  },
  {
   "cell_type": "code",
   "execution_count": 50,
   "metadata": {},
   "outputs": [
    {
     "data": {
      "text/plain": [
       "array(['N', nan, 'Y'], dtype=object)"
      ]
     },
     "execution_count": 50,
     "metadata": {},
     "output_type": "execute_result"
    }
   ],
   "source": [
    "df.solarwtr.unique()\n"
   ]
  },
  {
   "cell_type": "code",
   "execution_count": 51,
   "metadata": {},
   "outputs": [
    {
     "data": {
      "text/plain": [
       "array(['natural', 'NO DATA!', 'mechanical, supply and extract',\n",
       "       'mechanical, extract only'], dtype=object)"
      ]
     },
     "execution_count": 51,
     "metadata": {},
     "output_type": "execute_result"
    }
   ],
   "source": [
    "df.mechvent.unique()"
   ]
  }
 ],
 "metadata": {
  "kernelspec": {
   "display_name": "Python 3",
   "language": "python",
   "name": "python3"
  },
  "language_info": {
   "codemirror_mode": {
    "name": "ipython",
    "version": 3
   },
   "file_extension": ".py",
   "mimetype": "text/x-python",
   "name": "python",
   "nbconvert_exporter": "python",
   "pygments_lexer": "ipython3",
   "version": "3.6.8"
  }
 },
 "nbformat": 4,
 "nbformat_minor": 2
}
